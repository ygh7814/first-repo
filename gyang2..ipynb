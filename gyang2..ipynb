﻿{
  "metadata": {
    "name": "gyang2",
    "kernelspec": {
      "language": "scala",
      "name": "spark2-scala"
    },
    "language_info": {
      "codemirror_mode": "text/x-scala",
      "file_extension": ".scala",
      "mimetype": "text/x-scala",
      "name": "scala",
      "pygments_lexer": "scala"
    }
  },
  "nbformat": 4,
  "nbformat_minor": 2,
  "cells": [
    {
      "cell_type": "code",
      "execution_count": 0,
      "metadata": {
        "autoscroll": "auto"
      },
      "outputs": [],
      "source": "%spark.pyspark\nimport pyspark.ml.feature as ft\ndf \u003d spark.createDataFrame([(1, 0, 3)], [\"a\", \"b\", \"c\"])\ndf.show()\n"
    },
    {
      "cell_type": "code",
      "execution_count": 1,
      "metadata": {
        "autoscroll": "auto"
      },
      "outputs": [],
      "source": "%spark.pyspark\nimport pyspark.ml.feature as ft"
    },
    {
      "cell_type": "code",
      "execution_count": 2,
      "metadata": {
        "autoscroll": "auto"
      },
      "outputs": [],
      "source": "%spark.pyspark\nvecAssembler \u003d ft.VectorAssembler(inputCols\u003d[\"a\", \"b\", \"c\"], outputCol\u003d\"features\")"
    },
    {
      "cell_type": "code",
      "execution_count": 3,
      "metadata": {
        "autoscroll": "auto"
      },
      "outputs": [],
      "source": "%spark.pyspark\nvecAssembler.transform(df).head().features\n"
    },
    {
      "cell_type": "code",
      "execution_count": 4,
      "metadata": {
        "autoscroll": "auto"
      },
      "outputs": [],
      "source": "%spark.pyspark\nparams \u003d {vecAssembler.inputCols: [\"b\", \"a\"], vecAssembler.outputCol: \"vector\"}\nvecAssembler.transform(df, params).head().vector"
    },
    {
      "cell_type": "code",
      "execution_count": 5,
      "metadata": {
        "autoscroll": "auto"
      },
      "outputs": [],
      "source": "%netezza\nselect * from nzpvw001.fct_ord limit 10\n"
    },
    {
      "cell_type": "code",
      "execution_count": 6,
      "metadata": {
        "autoscroll": "auto"
      },
      "outputs": [],
      "source": "%spark.pyspark\ndata_heterogenous \u003d sc.parallelize([\n(\u0027Ferrari\u0027, \u0027fast\u0027),\n{\u0027Porsche\u0027: 100000},\n[\u0027Spain\u0027,\u0027visited\u0027, 4504]\n]).collect()\n"
    },
    {
      "cell_type": "code",
      "execution_count": 7,
      "metadata": {
        "autoscroll": "auto"
      },
      "outputs": [],
      "source": "%spark.pyspark\ndata_heterogenous.take(1)\n"
    },
    {
      "cell_type": "code",
      "execution_count": 8,
      "metadata": {
        "autoscroll": "auto"
      },
      "outputs": [],
      "source": "%spark.pyspark\nairportsna\u003dspark.read.csv(\u0027s3://lerawzone/users/gyang/airport-codes-na.txt\u0027,header\u003dTrue,inferSchema\u003dTrue,sep\u003d\u0027\\t\u0027)\n"
    },
    {
      "cell_type": "code",
      "execution_count": 9,
      "metadata": {
        "autoscroll": "auto"
      },
      "outputs": [],
      "source": "%spark.pyspark\nairportsna.printSchema()\nairportsna.count()\n"
    },
    {
      "cell_type": "code",
      "execution_count": 10,
      "metadata": {
        "autoscroll": "auto"
      },
      "outputs": [],
      "source": "%spark.pyspark\nairportsna.show()\n"
    },
    {
      "cell_type": "code",
      "execution_count": 11,
      "metadata": {
        "autoscroll": "auto"
      },
      "outputs": [],
      "source": "%spark.pyspark\nacxiom\u003dspark.read.csv(\u0027s3://lerawzone/users/jcmarsc/acxiom/lands_end_500k_households_20200807_cutoff_OUT.csv.pgp\u0027,header\u003dTrue)\n"
    },
    {
      "cell_type": "code",
      "execution_count": 12,
      "metadata": {
        "autoscroll": "auto"
      },
      "outputs": [],
      "source": "%spark.pyspark\n\nacxiom.coalesce(1).write.mode(\u0027overwrite\u0027).csv(\u0027s3://lerawzone/users/jcmarsc/acxiom/lands_end_500k_households_20200807_cutoff_OUT.csv\u0027,header\u003dTrue)"
    },
    {
      "cell_type": "code",
      "execution_count": 13,
      "metadata": {
        "autoscroll": "auto"
      },
      "outputs": [],
      "source": "%spark.pyspark\nacxiom.printSchema()"
    },
    {
      "cell_type": "code",
      "execution_count": 14,
      "metadata": {
        "autoscroll": "auto"
      },
      "outputs": [],
      "source": "%spark.pyspark\nacxiom[\u0027ibe2033_2033\u0027].show()\n"
    },
    {
      "cell_type": "code",
      "execution_count": 15,
      "metadata": {
        "autoscroll": "auto"
      },
      "outputs": [],
      "source": "%spark.pyspark\ndepartureDelays.count()\n"
    },
    {
      "cell_type": "code",
      "execution_count": 16,
      "metadata": {
        "autoscroll": "auto"
      },
      "outputs": [],
      "source": "%spark.pyspark\ndepartureDelays.createOrReplaceTempView(\u0027departureDelays\u0027)\ndepartureDelays.cache()\n"
    },
    {
      "cell_type": "code",
      "execution_count": 17,
      "metadata": {
        "autoscroll": "auto"
      },
      "outputs": [],
      "source": "%spark.pyspark\ntripIATA\u003dspark.sql(\"select distinct iata from (select distinct origin as iata from departureDelays union all select distinct destination as iata from departureDelays) a\")\n\n\n"
    },
    {
      "cell_type": "code",
      "execution_count": 18,
      "metadata": {
        "autoscroll": "auto"
      },
      "outputs": [],
      "source": "%spark.pyspark\ntripIATA.createOrReplaceTempView(\u0027tripIATA\u0027)\n"
    },
    {
      "cell_type": "code",
      "execution_count": 19,
      "metadata": {
        "autoscroll": "auto"
      },
      "outputs": [],
      "source": "%spark.pyspark\nairportsna.createOrReplaceTempView(\u0027airportsna\u0027)\n"
    },
    {
      "cell_type": "code",
      "execution_count": 20,
      "metadata": {
        "autoscroll": "auto"
      },
      "outputs": [],
      "source": "%spark.pyspark\nairports\u003dspark.sql(\"select f.IATA,f.City,f.State,f.Country from airportsna f join tripIATA t on f.IATA\u003dt.IATA \")\n"
    },
    {
      "cell_type": "code",
      "execution_count": 21,
      "metadata": {
        "autoscroll": "auto"
      },
      "outputs": [],
      "source": "%spark.pyspark\nairports.createOrReplaceTempView(\u0027airports\u0027)\n"
    },
    {
      "cell_type": "code",
      "execution_count": 22,
      "metadata": {
        "autoscroll": "auto"
      },
      "outputs": [],
      "source": "%spark.pyspark\ndepartureDelays_geo \u003d spark.sql(\"select cast(f.date as int) as tripid, cast(concat(concat(concat(concat(concat(concat(\u00272014-\u0027,concat(concat(substr(cast(f.date as string), 1, 2), \u0027-\u0027)),\\\nsubstr(cast(f.date as string), 3, 2)), \u0027\u0027), substr(cast(f.date as \\\nstring), 5, 2)), \u0027:\u0027), substr(cast(f.date as string), 7, 2)), \u0027:00\u0027) \\\nas timestamp) as `localdate`, cast(f.delay as int), cast(f.distance \\\nas int), f.origin as src, f.destination as dst, o.city as city_src, \\\nd.city as city_dst, o.state as state_src, d.state as state_dst from \\\ndeparturedelays f join airports o on o.iata \u003d f.origin join airports d \\\non d.iata \u003d f.destination\")\n"
    },
    {
      "cell_type": "code",
      "execution_count": 23,
      "metadata": {
        "autoscroll": "auto"
      },
      "outputs": [],
      "source": "%spark.pyspark\ndepartureDelays_geo.show()\n"
    },
    {
      "cell_type": "code",
      "execution_count": 24,
      "metadata": {
        "autoscroll": "auto"
      },
      "outputs": [],
      "source": "%sh\npyspark --packages graphframes:graphframes:0.3.0-spark2.0-s_2.11"
    },
    {
      "cell_type": "code",
      "execution_count": 25,
      "metadata": {
        "autoscroll": "auto"
      },
      "outputs": [],
      "source": "%spark.pyspark\nimport graphframes\nfrom pyspark.sql.functions import *\nfrom graphframes import *"
    },
    {
      "cell_type": "code",
      "execution_count": 26,
      "metadata": {
        "autoscroll": "auto"
      },
      "outputs": [],
      "source": "%r  \n hello \u003c- function( name ) {\n    sprintf( \"Hello, %s\", name );\n}\n\nhello(\"livy\")\n"
    },
    {
      "cell_type": "code",
      "execution_count": 27,
      "metadata": {
        "autoscroll": "auto"
      },
      "outputs": [],
      "source": "%r\nlibrary(dplyr)\n"
    },
    {
      "cell_type": "code",
      "execution_count": 28,
      "metadata": {
        "autoscroll": "auto"
      },
      "outputs": [],
      "source": "%r\ndf1 \u003c- createDataFrame(sqlContext, iris)"
    },
    {
      "cell_type": "code",
      "execution_count": 29,
      "metadata": {
        "autoscroll": "auto"
      },
      "outputs": [],
      "source": "%r\ndf\u003c-as.DataFrame(faithful)\nhead(df,6)\n"
    },
    {
      "cell_type": "code",
      "execution_count": 30,
      "metadata": {
        "autoscroll": "auto"
      },
      "outputs": [],
      "source": "%r\ncol\u003c-colnames(df1)\ncol\n"
    },
    {
      "cell_type": "code",
      "execution_count": 31,
      "metadata": {
        "autoscroll": "auto"
      },
      "outputs": [],
      "source": "%r\nhead(df1[,c(\u0027Sepal_Length\u0027,\u0027Sepal_Width\u0027)])\n"
    },
    {
      "cell_type": "code",
      "execution_count": 32,
      "metadata": {
        "autoscroll": "auto"
      },
      "outputs": [],
      "source": "%r\nhead(select(df1,\u0027Sepal_Length\u0027))"
    },
    {
      "cell_type": "code",
      "execution_count": 33,
      "metadata": {
        "autoscroll": "auto"
      },
      "outputs": [],
      "source": "%r\n\nshowDF(agg(df,avg\u003dmean(df$eruptions)))"
    },
    {
      "cell_type": "code",
      "execution_count": 34,
      "metadata": {
        "autoscroll": "auto"
      },
      "outputs": [],
      "source": "%python\nimport pandas\n\n"
    },
    {
      "cell_type": "code",
      "execution_count": 35,
      "metadata": {
        "autoscroll": "auto"
      },
      "outputs": [],
      "source": "%r\nsummarize(groupBy(df,df$waiting),n(df$eruptions))\n\n\n"
    },
    {
      "cell_type": "code",
      "execution_count": 36,
      "metadata": {
        "autoscroll": "auto"
      },
      "outputs": [],
      "source": "%r\nnrow(df1[,1])\n"
    },
    {
      "cell_type": "code",
      "execution_count": 37,
      "metadata": {
        "autoscroll": "auto"
      },
      "outputs": [],
      "source": "%r\n\n"
    },
    {
      "cell_type": "code",
      "execution_count": 38,
      "metadata": {
        "autoscroll": "auto"
      },
      "outputs": [],
      "source": "%livy.sparkr\nbirths\u003c-read.df(\u0027s3://lerawzone/users/gyang/births_transformed.csv.gz\u0027,source\u003d\u0027csv\u0027,header\u003d\u0027true\u0027)"
    },
    {
      "cell_type": "code",
      "execution_count": 39,
      "metadata": {
        "autoscroll": "auto"
      },
      "outputs": [],
      "source": "%livy.sparkr\nnrow(births)\n"
    },
    {
      "cell_type": "code",
      "execution_count": 40,
      "metadata": {
        "autoscroll": "auto"
      },
      "outputs": [],
      "source": "%livy.sparkr\ncolnames(births)\n"
    },
    {
      "cell_type": "code",
      "execution_count": 41,
      "metadata": {
        "autoscroll": "auto"
      },
      "outputs": [],
      "source": "%livy.sparkr\nstr(births)\n"
    },
    {
      "cell_type": "code",
      "execution_count": 42,
      "metadata": {
        "autoscroll": "auto"
      },
      "outputs": [],
      "source": "%livy.sparkr\ndtypes(births)\n"
    },
    {
      "cell_type": "code",
      "execution_count": 43,
      "metadata": {
        "autoscroll": "auto"
      },
      "outputs": [],
      "source": "%livy.sparkr\ncol\u003dcolnames(births)\ncol\n"
    },
    {
      "cell_type": "code",
      "execution_count": 44,
      "metadata": {
        "autoscroll": "auto"
      },
      "outputs": [],
      "source": "%livy.sparkr\nhead(select(births,\u0027BIRTH_PLACE\u0027))\n"
    },
    {
      "cell_type": "code",
      "execution_count": 45,
      "metadata": {
        "autoscroll": "auto"
      },
      "outputs": [],
      "source": "%livy.sparkr\nbirths$INFANT_ALIVE_AT_REPORT\u003c-cast(births$INFANT_ALIVE_AT_REPORT,\u0027long\u0027)\n"
    },
    {
      "cell_type": "code",
      "execution_count": 46,
      "metadata": {
        "autoscroll": "auto"
      },
      "outputs": [],
      "source": "%livy.sparkr\nhead(select(births,\u0027INFANT_ALIVE_AT_REPORT\u0027))"
    },
    {
      "cell_type": "code",
      "execution_count": 47,
      "metadata": {
        "autoscroll": "auto"
      },
      "outputs": [],
      "source": "%livy.sparkr\nbirths$\u0027BIRTH_PLACE\u0027"
    },
    {
      "cell_type": "code",
      "execution_count": 48,
      "metadata": {
        "autoscroll": "auto"
      },
      "outputs": [],
      "source": "%livy.sparkr\nfor(i1 in col){\nbirths\u003c-withColumn(births,i1,cast(eval(parse(text\u003dpaste(\u0027births$\u0027,i1,sep\u003d\u0027\u0027))),\u0027long\u0027))}\n"
    },
    {
      "cell_type": "code",
      "execution_count": 49,
      "metadata": {
        "autoscroll": "auto"
      },
      "outputs": [],
      "source": "%livy.sparkr\nstr(births)\n\n"
    },
    {
      "cell_type": "code",
      "execution_count": 50,
      "metadata": {
        "autoscroll": "auto"
      },
      "outputs": [],
      "source": "%livy.sparkr\ntrain_births\u003c-sample(births,withReplacement\u003dFALSE,fraction\u003d0.7,seed\u003d42)\ntest_births\u003c-except(births,train_births)"
    },
    {
      "cell_type": "code",
      "execution_count": 51,
      "metadata": {
        "autoscroll": "auto"
      },
      "outputs": [],
      "source": "%livy.sparkr\nmodel\u003dspark.logit(train_births,INFANT_ALIVE_AT_REPORT~.,regParam\u003d0.3)\ntrain_predictions\u003c-predict(model,train_births,type\u003d\u0027response\u0027)\ntest_predictions\u003c-predict(model,test_births,type\u003d\u0027response\u0027)"
    },
    {
      "cell_type": "code",
      "execution_count": 52,
      "metadata": {
        "autoscroll": "auto"
      },
      "outputs": [],
      "source": "%livy.sparkr\nhead(trian_predictions)\n\n"
    }
  ]
}