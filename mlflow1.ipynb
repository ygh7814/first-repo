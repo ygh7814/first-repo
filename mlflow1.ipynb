{
 "cells": [
  {
   "cell_type": "code",
   "execution_count": 89,
   "id": "8e1389fd",
   "metadata": {},
   "outputs": [
    {
     "name": "stdout",
     "output_type": "stream",
     "text": [
      "/home/gyang/miniconda3/bin/python\n",
      "3.10.12 (main, Jul  5 2023, 18:54:27) [GCC 11.2.0]\n",
      "sys.version_info(major=3, minor=10, micro=12, releaselevel='final', serial=0)\n"
     ]
    }
   ],
   "source": [
    "import sys\n",
    "print(sys.executable)\n",
    "print(sys.version)\n",
    "print(sys.version_info)\n"
   ]
  },
  {
   "cell_type": "code",
   "execution_count": 2,
   "id": "d12cac53",
   "metadata": {},
   "outputs": [
    {
     "name": "stderr",
     "output_type": "stream",
     "text": [
      "/home/gyang/miniconda3/lib/python3.10/site-packages/pydantic/_internal/_fields.py:149: UserWarning: Field \"model_server_url\" has conflict with protected namespace \"model_\".\n",
      "\n",
      "You may be able to resolve this warning by setting `model_config['protected_namespaces'] = ()`.\n",
      "  warnings.warn(\n",
      "/home/gyang/miniconda3/lib/python3.10/site-packages/pydantic/_internal/_config.py:321: UserWarning: Valid config keys have changed in V2:\n",
      "* 'schema_extra' has been renamed to 'json_schema_extra'\n",
      "  warnings.warn(message, UserWarning)\n"
     ]
    }
   ],
   "source": [
    "import mlflow"
   ]
  },
  {
   "cell_type": "code",
   "execution_count": 7,
   "id": "7bcebfee",
   "metadata": {},
   "outputs": [],
   "source": [
    "import tempfile"
   ]
  },
  {
   "cell_type": "code",
   "execution_count": 8,
   "id": "23259b4f",
   "metadata": {},
   "outputs": [],
   "source": [
    "import os"
   ]
  },
  {
   "cell_type": "code",
   "execution_count": 17,
   "id": "691a861c-af4f-479b-b04b-2b4aaa37f89c",
   "metadata": {},
   "outputs": [
    {
     "name": "stdout",
     "output_type": "stream",
     "text": [
      "Collecting mlflow_utils\n",
      "  Downloading mlflow_utils-0.0.4-py3-none-any.whl.metadata (647 bytes)\n",
      "Requirement already satisfied: mlflow in ./.local/lib/python3.10/site-packages (from mlflow_utils) (2.7.0)\n",
      "Requirement already satisfied: pandas in ./.local/lib/python3.10/site-packages (from mlflow_utils) (2.2.0)\n",
      "Requirement already satisfied: click<9,>=7.0 in ./miniconda3/lib/python3.10/site-packages (from mlflow->mlflow_utils) (8.1.7)\n",
      "Requirement already satisfied: cloudpickle<3 in ./.local/lib/python3.10/site-packages (from mlflow->mlflow_utils) (2.2.1)\n",
      "Requirement already satisfied: databricks-cli<1,>=0.8.7 in ./.local/lib/python3.10/site-packages (from mlflow->mlflow_utils) (0.18.0)\n",
      "Requirement already satisfied: entrypoints<1 in ./.local/lib/python3.10/site-packages (from mlflow->mlflow_utils) (0.4)\n",
      "Requirement already satisfied: gitpython<4,>=2.1.0 in ./.local/lib/python3.10/site-packages (from mlflow->mlflow_utils) (3.1.41)\n",
      "Requirement already satisfied: pyyaml<7,>=5.1 in ./miniconda3/lib/python3.10/site-packages (from mlflow->mlflow_utils) (6.0.1)\n",
      "Requirement already satisfied: protobuf<5,>=3.12.0 in ./miniconda3/lib/python3.10/site-packages (from mlflow->mlflow_utils) (3.20.3)\n",
      "Requirement already satisfied: pytz<2024 in ./miniconda3/lib/python3.10/site-packages (from mlflow->mlflow_utils) (2023.3.post1)\n",
      "Requirement already satisfied: requests<3,>=2.17.3 in ./.local/lib/python3.10/site-packages (from mlflow->mlflow_utils) (2.32.3)\n",
      "Requirement already satisfied: packaging<24 in ./miniconda3/lib/python3.10/site-packages (from mlflow->mlflow_utils) (23.1)\n",
      "Requirement already satisfied: importlib-metadata!=4.7.0,<7,>=3.7.0 in ./miniconda3/lib/python3.10/site-packages (from mlflow->mlflow_utils) (6.11.0)\n",
      "Requirement already satisfied: sqlparse<1,>=0.4.0 in ./miniconda3/lib/python3.10/site-packages (from mlflow->mlflow_utils) (0.4.4)\n",
      "Requirement already satisfied: alembic!=1.10.0,<2 in ./miniconda3/lib/python3.10/site-packages (from mlflow->mlflow_utils) (1.13.1)\n",
      "Requirement already satisfied: docker<7,>=4.0.0 in ./.local/lib/python3.10/site-packages (from mlflow->mlflow_utils) (6.1.3)\n",
      "Requirement already satisfied: Flask<3 in ./miniconda3/lib/python3.10/site-packages (from mlflow->mlflow_utils) (2.2.5)\n",
      "Requirement already satisfied: numpy<2 in ./miniconda3/lib/python3.10/site-packages (from mlflow->mlflow_utils) (1.26.3)\n",
      "Requirement already satisfied: scipy<2 in ./miniconda3/lib/python3.10/site-packages (from mlflow->mlflow_utils) (1.11.4)\n",
      "Requirement already satisfied: querystring-parser<2 in ./.local/lib/python3.10/site-packages (from mlflow->mlflow_utils) (1.2.4)\n",
      "Requirement already satisfied: sqlalchemy<3,>=1.4.0 in ./miniconda3/lib/python3.10/site-packages (from mlflow->mlflow_utils) (1.4.51)\n",
      "Requirement already satisfied: scikit-learn<2 in ./.local/lib/python3.10/site-packages (from mlflow->mlflow_utils) (1.4.0)\n",
      "Collecting pyarrow<14,>=4.0.0 (from mlflow->mlflow_utils)\n",
      "  Downloading pyarrow-13.0.0-cp310-cp310-manylinux_2_17_x86_64.manylinux2014_x86_64.whl.metadata (3.0 kB)\n",
      "Requirement already satisfied: markdown<4,>=3.3 in ./miniconda3/lib/python3.10/site-packages (from mlflow->mlflow_utils) (3.5.2)\n",
      "Requirement already satisfied: matplotlib<4 in ./miniconda3/lib/python3.10/site-packages (from mlflow->mlflow_utils) (3.8.2)\n",
      "Requirement already satisfied: gunicorn<22 in ./miniconda3/lib/python3.10/site-packages (from mlflow->mlflow_utils) (21.2.0)\n",
      "Requirement already satisfied: Jinja2<4,>=2.11 in ./miniconda3/lib/python3.10/site-packages (from mlflow->mlflow_utils) (3.1.3)\n",
      "Requirement already satisfied: python-dateutil>=2.8.2 in ./miniconda3/lib/python3.10/site-packages (from pandas->mlflow_utils) (2.8.2)\n",
      "Requirement already satisfied: tzdata>=2022.7 in ./miniconda3/lib/python3.10/site-packages (from pandas->mlflow_utils) (2023.4)\n",
      "Requirement already satisfied: Mako in ./miniconda3/lib/python3.10/site-packages (from alembic!=1.10.0,<2->mlflow->mlflow_utils) (1.3.0)\n",
      "Requirement already satisfied: typing-extensions>=4 in ./miniconda3/lib/python3.10/site-packages (from alembic!=1.10.0,<2->mlflow->mlflow_utils) (4.9.0)\n",
      "Requirement already satisfied: pyjwt>=1.7.0 in ./miniconda3/lib/python3.10/site-packages (from databricks-cli<1,>=0.8.7->mlflow->mlflow_utils) (2.8.0)\n",
      "Requirement already satisfied: oauthlib>=3.1.0 in ./miniconda3/lib/python3.10/site-packages (from databricks-cli<1,>=0.8.7->mlflow->mlflow_utils) (3.2.2)\n",
      "Requirement already satisfied: tabulate>=0.7.7 in ./miniconda3/lib/python3.10/site-packages (from databricks-cli<1,>=0.8.7->mlflow->mlflow_utils) (0.9.0)\n",
      "Requirement already satisfied: six>=1.10.0 in ./miniconda3/lib/python3.10/site-packages (from databricks-cli<1,>=0.8.7->mlflow->mlflow_utils) (1.16.0)\n",
      "Requirement already satisfied: urllib3<3,>=1.26.7 in ./miniconda3/lib/python3.10/site-packages (from databricks-cli<1,>=0.8.7->mlflow->mlflow_utils) (1.26.16)\n",
      "Requirement already satisfied: websocket-client>=0.32.0 in ./.local/lib/python3.10/site-packages (from docker<7,>=4.0.0->mlflow->mlflow_utils) (1.7.0)\n",
      "Requirement already satisfied: Werkzeug>=2.2.2 in ./miniconda3/lib/python3.10/site-packages (from Flask<3->mlflow->mlflow_utils) (2.2.3)\n",
      "Requirement already satisfied: itsdangerous>=2.0 in ./miniconda3/lib/python3.10/site-packages (from Flask<3->mlflow->mlflow_utils) (2.0.1)\n",
      "Requirement already satisfied: gitdb<5,>=4.0.1 in ./.local/lib/python3.10/site-packages (from gitpython<4,>=2.1.0->mlflow->mlflow_utils) (4.0.11)\n",
      "Requirement already satisfied: zipp>=0.5 in ./miniconda3/lib/python3.10/site-packages (from importlib-metadata!=4.7.0,<7,>=3.7.0->mlflow->mlflow_utils) (3.17.0)\n",
      "Requirement already satisfied: MarkupSafe>=2.0 in ./miniconda3/lib/python3.10/site-packages (from Jinja2<4,>=2.11->mlflow->mlflow_utils) (2.1.3)\n",
      "Requirement already satisfied: contourpy>=1.0.1 in ./miniconda3/lib/python3.10/site-packages (from matplotlib<4->mlflow->mlflow_utils) (1.2.0)\n",
      "Requirement already satisfied: cycler>=0.10 in ./miniconda3/lib/python3.10/site-packages (from matplotlib<4->mlflow->mlflow_utils) (0.12.1)\n",
      "Requirement already satisfied: fonttools>=4.22.0 in ./miniconda3/lib/python3.10/site-packages (from matplotlib<4->mlflow->mlflow_utils) (4.47.2)\n",
      "Requirement already satisfied: kiwisolver>=1.3.1 in ./miniconda3/lib/python3.10/site-packages (from matplotlib<4->mlflow->mlflow_utils) (1.4.5)\n",
      "Requirement already satisfied: pillow>=8 in ./.local/lib/python3.10/site-packages (from matplotlib<4->mlflow->mlflow_utils) (9.5.0)\n",
      "Requirement already satisfied: pyparsing>=2.3.1 in ./miniconda3/lib/python3.10/site-packages (from matplotlib<4->mlflow->mlflow_utils) (2.4.7)\n",
      "Requirement already satisfied: charset-normalizer<4,>=2 in ./miniconda3/lib/python3.10/site-packages (from requests<3,>=2.17.3->mlflow->mlflow_utils) (2.0.4)\n",
      "Requirement already satisfied: idna<4,>=2.5 in ./miniconda3/lib/python3.10/site-packages (from requests<3,>=2.17.3->mlflow->mlflow_utils) (3.4)\n",
      "Requirement already satisfied: certifi>=2017.4.17 in ./miniconda3/lib/python3.10/site-packages (from requests<3,>=2.17.3->mlflow->mlflow_utils) (2024.2.2)\n",
      "Requirement already satisfied: joblib>=1.2.0 in ./.local/lib/python3.10/site-packages (from scikit-learn<2->mlflow->mlflow_utils) (1.3.2)\n",
      "Requirement already satisfied: threadpoolctl>=2.0.0 in ./.local/lib/python3.10/site-packages (from scikit-learn<2->mlflow->mlflow_utils) (3.2.0)\n",
      "Requirement already satisfied: greenlet!=0.4.17 in ./miniconda3/lib/python3.10/site-packages (from sqlalchemy<3,>=1.4.0->mlflow->mlflow_utils) (3.0.3)\n",
      "Requirement already satisfied: smmap<6,>=3.0.1 in ./.local/lib/python3.10/site-packages (from gitdb<5,>=4.0.1->gitpython<4,>=2.1.0->mlflow->mlflow_utils) (5.0.1)\n",
      "Downloading mlflow_utils-0.0.4-py3-none-any.whl (4.6 kB)\n",
      "Downloading pyarrow-13.0.0-cp310-cp310-manylinux_2_17_x86_64.manylinux2014_x86_64.whl (40.0 MB)\n",
      "\u001b[2K   \u001b[38;2;114;156;31m━━━━━━━━━━━━━━━━━━━━━━━━━━━━━━━━━━━━━━━━\u001b[0m \u001b[32m40.0/40.0 MB\u001b[0m \u001b[31m36.5 MB/s\u001b[0m eta \u001b[36m0:00:00\u001b[0m0m eta \u001b[36m0:00:01\u001b[0m0:01\u001b[0m:01\u001b[0m\n",
      "\u001b[?25hInstalling collected packages: pyarrow, mlflow_utils\n",
      "  Attempting uninstall: pyarrow\n",
      "    Found existing installation: pyarrow 18.1.0\n",
      "    Uninstalling pyarrow-18.1.0:\n",
      "      Successfully uninstalled pyarrow-18.1.0\n",
      "\u001b[31mERROR: pip's dependency resolver does not currently take into account all the packages that are installed. This behaviour is the source of the following dependency conflicts.\n",
      "datasets 3.2.0 requires pyarrow>=15.0.0, but you have pyarrow 13.0.0 which is incompatible.\n",
      "apache-beam 2.59.0 requires dill<0.3.2,>=0.3.1.1, but you have dill 0.3.8 which is incompatible.\u001b[0m\u001b[31m\n",
      "\u001b[0mSuccessfully installed mlflow_utils-0.0.4 pyarrow-13.0.0\n",
      "\n",
      "\u001b[1m[\u001b[0m\u001b[34;49mnotice\u001b[0m\u001b[1;39;49m]\u001b[0m\u001b[39;49m A new release of pip is available: \u001b[0m\u001b[31;49m24.0\u001b[0m\u001b[39;49m -> \u001b[0m\u001b[32;49m25.0\u001b[0m\n",
      "\u001b[1m[\u001b[0m\u001b[34;49mnotice\u001b[0m\u001b[1;39;49m]\u001b[0m\u001b[39;49m To update, run: \u001b[0m\u001b[32;49mpip install --upgrade pip\u001b[0m\n"
     ]
    }
   ],
   "source": [
    "!pip install --user mlflow_utils"
   ]
  },
  {
   "cell_type": "code",
   "execution_count": 20,
   "id": "3589e714",
   "metadata": {},
   "outputs": [],
   "source": [
    "from mlflow import create_experiment"
   ]
  },
  {
   "cell_type": "code",
   "execution_count": 15,
   "id": "012d8f42",
   "metadata": {},
   "outputs": [],
   "source": [
    "mlflow.set_tracking_uri(\"http://localhost:5000\")\n"
   ]
  },
  {
   "cell_type": "code",
   "execution_count": 35,
   "id": "971dc081",
   "metadata": {},
   "outputs": [],
   "source": [
    "with mlflow.start_run():\n",
    "    mlflow.log_param(\"param1\", 5)\n",
    "    mlflow.log_metric(\"metric1\", 0.85)"
   ]
  },
  {
   "cell_type": "code",
   "execution_count": 90,
   "id": "acfe0403-8c64-4855-9b3d-c816b0c1e128",
   "metadata": {},
   "outputs": [
    {
     "name": "stdout",
     "output_type": "stream",
     "text": [
      "\u001b[0m\u001b[38;5;27mAI\u001b[0m/                                        \u001b[38;5;27mMusic\u001b[0m/\n",
      "\u001b[38;5;27mairflow\u001b[0m/                                   myfile\n",
      "audit.py                                   myfile.pub\n",
      "bbc-text.csv                               myfirst\n",
      "best_sarca_model2.h5                       myfirst.pub\n",
      "best_sarca_model.h5                        \u001b[38;5;27mnltk_data\u001b[0m/\n",
      "\u001b[38;5;27mbin\u001b[0m/                                       nmt_utils.py\n",
      "C5_1x-Copy1.ipynb                          password\n",
      "C5_1x.ipynb                                \u001b[38;5;27mPictures\u001b[0m/\n",
      "\u001b[38;5;27mcatalog_industrialization_pipeline\u001b[0m/        \u001b[38;5;27mPublic\u001b[0m/\n",
      "core.12243                                 \u001b[38;5;27mPycharmProjects\u001b[0m/\n",
      "core.16881                                 \u001b[38;5;27mreports\u001b[0m/\n",
      "core.26669                                 resp_x_data.csv\n",
      "core.27051                                 Reverse_Email.ipynb\n",
      "core.3303                                  \u001b[38;5;27mrun_artifacts\u001b[0m/\n",
      "daily-min-temperatures.csv                 sarcasm.json\n",
      "\u001b[38;5;27mdata\u001b[0m/                                      \u001b[38;5;27mscikit_learn_data\u001b[0m/\n",
      "\u001b[38;5;27mData\u001b[0m/                                      SESE model.ipynb\n",
      "\u001b[38;5;27mDesktop\u001b[0m/                                   sheldon.ipynb\n",
      "\u001b[38;5;27mDocuments\u001b[0m/                                 \u001b[38;5;27mtemp2\u001b[0m/\n",
      "Documents\\C11x_clean_data.csv              \u001b[38;5;27mTemplates\u001b[0m/\n",
      "Documents\\C11x_clean_data.txt              \u001b[38;5;27mtensorflow_datasets\u001b[0m/\n",
      "Documents\\C41x_clean_data.txt              \u001b[38;5;27mtestspyder\u001b[0m/\n",
      "Documents\\C51x_clean_data.txt              \u001b[38;5;27mtools\u001b[0m/\n",
      "Documents?esp_X_data.csv                   training_cleaned.csv\n",
      "Documents?esp_y_data.csv                   Untitled10.ipynb\n",
      "Documents\\K11x_clean_data2.txt             Untitled11.ipynb\n",
      "Documents\\K11x_clean_data.txt              Untitled12.ipynb\n",
      "Documents\\R21x_clean_data.txt              Untitled13.ipynb\n",
      "\u001b[38;5;27mDownloads\u001b[0m/                                 Untitled14.ipynb\n",
      "\u001b[38;5;27mgensim-data\u001b[0m/                               Untitled15.ipynb\n",
      "\u001b[38;5;27mgit_test2\u001b[0m/                                 Untitled16.ipynb\n",
      "glove.6B.100d.txt                          Untitled17.ipynb\n",
      "hello_world1.txt                           Untitled18.ipynb\n",
      "hello_world.txt                            Untitled1.ipynb\n",
      "H:\\My Documents\\C4_2021_total_demand.xlsx  Untitled2.ipynb\n",
      "IBE Test.ipynb                             Untitled3.ipynb\n",
      "irish-lyrics-eof.txt                       Untitled4.ipynb\n",
      "\u001b[38;5;27mjunk\u001b[0m/                                      Untitled5.ipynb\n",
      "leawssso.py                                Untitled6.ipynb\n",
      "\u001b[38;5;27mminiconda3\u001b[0m/                                Untitled7.ipynb\n",
      "Miniconda3-py310_23.5.2-0-Linux-x86_64.sh  Untitled8.ipynb\n",
      "\u001b[38;5;27mmlartifacts\u001b[0m/                               Untitled9.ipynb\n",
      "mlflow1.ipynb                              Untitled.ipynb\n",
      "\u001b[38;5;27mmlruns\u001b[0m/                                    \u001b[38;5;27musr\u001b[0m/\n",
      "model_sc.h5                                \u001b[38;5;27mVideos\u001b[0m/\n"
     ]
    }
   ],
   "source": [
    "ls"
   ]
  },
  {
   "cell_type": "code",
   "execution_count": 12,
   "id": "73c82092",
   "metadata": {},
   "outputs": [
    {
     "name": "stdout",
     "output_type": "stream",
     "text": [
      "575137661917955595\n"
     ]
    }
   ],
   "source": [
    "if __name__ == \"__main__\":\n",
    "    # create a new mlflow experiment\n",
    "    experiment_id = mlflow.create_experiment(\n",
    "        name=\"testing_mlflow\",\n",
    "        artifact_location=\"mlflow-artifacts:/0\",\n",
    "        tags={\"env\": \"dev\", \"version\": \"1.0.0\"},\n",
    "    )\n",
    "\n",
    "    print(experiment_id)"
   ]
  },
  {
   "cell_type": "code",
   "execution_count": 30,
   "id": "2b28729a-cb95-4873-a83a-0800bacc347d",
   "metadata": {},
   "outputs": [],
   "source": [
    "if __name__=='__main__':\n",
    "    experiment_id2=mlflow.create_experiment(\n",
    "        name='testing_mlflow2',\n",
    "        artifact_location='mlflow-artifacts:/0',\n",
    "        tags={'env':'dev','version':'1.0.0'})\n",
    "    "
   ]
  },
  {
   "cell_type": "code",
   "execution_count": 33,
   "id": "4a8a5390-1c75-42d2-9d6a-7e6e8af27332",
   "metadata": {},
   "outputs": [
    {
     "data": {
      "text/plain": [
       "'274270536586557793'"
      ]
     },
     "execution_count": 33,
     "metadata": {},
     "output_type": "execute_result"
    }
   ],
   "source": [
    "experiment_id2"
   ]
  },
  {
   "cell_type": "code",
   "execution_count": 67,
   "id": "715eda26-2e2f-4789-9757-086d3a059cf6",
   "metadata": {},
   "outputs": [
    {
     "name": "stdout",
     "output_type": "stream",
     "text": [
      "\u001b[0m\u001b[38;5;27mAI\u001b[0m/                                        \u001b[38;5;27mMusic\u001b[0m/\n",
      "\u001b[38;5;27mairflow\u001b[0m/                                   myfile\n",
      "audit.py                                   myfile.pub\n",
      "bbc-text.csv                               myfirst\n",
      "best_sarca_model2.h5                       myfirst.pub\n",
      "best_sarca_model.h5                        \u001b[38;5;27mnltk_data\u001b[0m/\n",
      "\u001b[38;5;27mbin\u001b[0m/                                       nmt_utils.py\n",
      "C5_1x-Copy1.ipynb                          password\n",
      "C5_1x.ipynb                                \u001b[38;5;27mPictures\u001b[0m/\n",
      "\u001b[38;5;27mcatalog_industrialization_pipeline\u001b[0m/        \u001b[38;5;27mPublic\u001b[0m/\n",
      "core.12243                                 \u001b[38;5;27mPycharmProjects\u001b[0m/\n",
      "core.16881                                 \u001b[38;5;27mreports\u001b[0m/\n",
      "core.26669                                 resp_x_data.csv\n",
      "core.27051                                 Reverse_Email.ipynb\n",
      "core.3303                                  \u001b[38;5;27mrun_artifacts\u001b[0m/\n",
      "daily-min-temperatures.csv                 sarcasm.json\n",
      "\u001b[38;5;27mdata\u001b[0m/                                      \u001b[38;5;27mscikit_learn_data\u001b[0m/\n",
      "\u001b[38;5;27mData\u001b[0m/                                      SESE model.ipynb\n",
      "\u001b[38;5;27mDesktop\u001b[0m/                                   sheldon.ipynb\n",
      "\u001b[38;5;27mDocuments\u001b[0m/                                 \u001b[38;5;27mtemp2\u001b[0m/\n",
      "Documents\\C11x_clean_data.csv              \u001b[38;5;27mTemplates\u001b[0m/\n",
      "Documents\\C11x_clean_data.txt              \u001b[38;5;27mtensorflow_datasets\u001b[0m/\n",
      "Documents\\C41x_clean_data.txt              \u001b[38;5;27mtestspyder\u001b[0m/\n",
      "Documents\\C51x_clean_data.txt              \u001b[38;5;27mtools\u001b[0m/\n",
      "Documents?esp_X_data.csv                   training_cleaned.csv\n",
      "Documents?esp_y_data.csv                   Untitled10.ipynb\n",
      "Documents\\K11x_clean_data2.txt             Untitled11.ipynb\n",
      "Documents\\K11x_clean_data.txt              Untitled12.ipynb\n",
      "Documents\\R21x_clean_data.txt              Untitled13.ipynb\n",
      "\u001b[38;5;27mDownloads\u001b[0m/                                 Untitled14.ipynb\n",
      "\u001b[38;5;27mgensim-data\u001b[0m/                               Untitled15.ipynb\n",
      "\u001b[38;5;27mgit_test2\u001b[0m/                                 Untitled16.ipynb\n",
      "glove.6B.100d.txt                          Untitled17.ipynb\n",
      "hello_world1.txt                           Untitled18.ipynb\n",
      "hello_world.txt                            Untitled1.ipynb\n",
      "H:\\My Documents\\C4_2021_total_demand.xlsx  Untitled2.ipynb\n",
      "IBE Test.ipynb                             Untitled3.ipynb\n",
      "irish-lyrics-eof.txt                       Untitled4.ipynb\n",
      "\u001b[38;5;27mjunk\u001b[0m/                                      Untitled5.ipynb\n",
      "leawssso.py                                Untitled6.ipynb\n",
      "\u001b[38;5;27mminiconda3\u001b[0m/                                Untitled7.ipynb\n",
      "Miniconda3-py310_23.5.2-0-Linux-x86_64.sh  Untitled8.ipynb\n",
      "\u001b[38;5;27mmlartifacts\u001b[0m/                               Untitled9.ipynb\n",
      "mlflow1.ipynb                              Untitled.ipynb\n",
      "\u001b[38;5;27mmlruns\u001b[0m/                                    \u001b[38;5;27musr\u001b[0m/\n",
      "model_sc.h5                                \u001b[38;5;27mVideos\u001b[0m/\n"
     ]
    }
   ],
   "source": [
    "ls\n"
   ]
  },
  {
   "cell_type": "code",
   "execution_count": 13,
   "id": "d44d6168",
   "metadata": {},
   "outputs": [
    {
     "data": {
      "text/plain": [
       "'575137661917955595'"
      ]
     },
     "execution_count": 13,
     "metadata": {},
     "output_type": "execute_result"
    }
   ],
   "source": [
    "experiment_id"
   ]
  },
  {
   "cell_type": "code",
   "execution_count": 23,
   "id": "5a6c6ff0",
   "metadata": {},
   "outputs": [],
   "source": [
    "def get_mlflow_experiment(experiment_id=None, experiment_name= None\n",
    "):\n",
    "    if experiment_id is not None:\n",
    "        experiment=mlflow.get_experiment(experiment_id)\n",
    "    elif experiment_name is not None:\n",
    "        experiment=mlflow.get_experiment_by_name(experiment_name)\n",
    "    else:\n",
    "        raise ValueError(\"Either experiment_id or experiment_name must be provided.\")\n",
    "    return experiment\n",
    "    \n"
   ]
  },
  {
   "cell_type": "code",
   "execution_count": 24,
   "id": "45066ba8-82bf-40c8-9c5e-12879195602a",
   "metadata": {},
   "outputs": [],
   "source": [
    "expm=mlflow.get_experiment(experiment_id)"
   ]
  },
  {
   "cell_type": "code",
   "execution_count": 28,
   "id": "5136d788-af22-4539-a911-55dc96e2a387",
   "metadata": {},
   "outputs": [],
   "source": [
    "expname=mlflow.get_experiment_by_name('testing_mlflow')"
   ]
  },
  {
   "cell_type": "code",
   "execution_count": 29,
   "id": "99f9e1ba-686a-4717-932a-c13b4aa05cd3",
   "metadata": {},
   "outputs": [
    {
     "name": "stdout",
     "output_type": "stream",
     "text": [
      "testing_mlflow 575137661917955595 {'version': '1.0.0', 'env': 'dev'} mlflow-artifacts:/0 active 1738880614054\n"
     ]
    }
   ],
   "source": [
    "print(expname.name,expname.experiment_id,expname.tags,expname.artifact_location,\n",
    "     expname.lifecycle_stage,expname.creation_time)"
   ]
  },
  {
   "cell_type": "code",
   "execution_count": 26,
   "id": "69f4f785-acd5-47cb-bce1-2869a0597fbb",
   "metadata": {},
   "outputs": [
    {
     "name": "stdout",
     "output_type": "stream",
     "text": [
      "testing_mlflow 575137661917955595 {'version': '1.0.0', 'env': 'dev'} mlflow-artifacts:/0\n"
     ]
    }
   ],
   "source": [
    "print(expm.name,expm.experiment_id,expm.tags,expm.artifact_location)"
   ]
  },
  {
   "cell_type": "code",
   "execution_count": 26,
   "id": "8ea91d85-4675-4759-8e78-dc6dd50b6402",
   "metadata": {},
   "outputs": [
    {
     "name": "stdout",
     "output_type": "stream",
     "text": [
      "testing_mlflow 575137661917955595 {'version': '1.0.0', 'env': 'dev'} mlflow-artifacts:/0\n"
     ]
    }
   ],
   "source": [
    "print(expm.name,expm.experiment_id,expm.tags,expm.artifact_location)"
   ]
  },
  {
   "cell_type": "code",
   "execution_count": 27,
   "id": "40181f40-5874-4c78-a139-2a00bb3326ca",
   "metadata": {},
   "outputs": [
    {
     "name": "stdout",
     "output_type": "stream",
     "text": [
      "active 1738880614054\n"
     ]
    }
   ],
   "source": [
    "print(expm.lifecycle_stage,expm.creation_time)"
   ]
  },
  {
   "cell_type": "code",
   "execution_count": 22,
   "id": "eda5f93d",
   "metadata": {},
   "outputs": [
    {
     "ename": "NameError",
     "evalue": "name 'get_mlflow_experiment' is not defined",
     "output_type": "error",
     "traceback": [
      "\u001b[0;31m---------------------------------------------------------------------------\u001b[0m",
      "\u001b[0;31mNameError\u001b[0m                                 Traceback (most recent call last)",
      "Cell \u001b[0;32mIn[22], line 1\u001b[0m\n\u001b[0;32m----> 1\u001b[0m exp1\u001b[38;5;241m=\u001b[39m\u001b[43mget_mlflow_experiment\u001b[49m(experiment_id\u001b[38;5;241m=\u001b[39mexperiment_id)\n\u001b[1;32m      2\u001b[0m \u001b[38;5;28mprint\u001b[39m(exp1\u001b[38;5;241m.\u001b[39mname)\n\u001b[1;32m      3\u001b[0m \u001b[38;5;28mprint\u001b[39m(exp1\u001b[38;5;241m.\u001b[39mexperiment_id)\n",
      "\u001b[0;31mNameError\u001b[0m: name 'get_mlflow_experiment' is not defined"
     ]
    }
   ],
   "source": [
    "exp1=get_mlflow_experiment(experiment_id=experiment_id)\n",
    "print(exp1.name)\n",
    "print(exp1.experiment_id)\n",
    "print(exp1.tags)\n",
    "print(exp1.lifecycle_stage)\n",
    "print(exp1.creation_time)\n",
    "print(exp1.artifact_location)\n"
   ]
  },
  {
   "cell_type": "code",
   "execution_count": 31,
   "id": "01978e28",
   "metadata": {},
   "outputs": [],
   "source": [
    "mlflow.delete_experiment(experiment_id=2)"
   ]
  },
  {
   "cell_type": "code",
   "execution_count": 55,
   "id": "f8156b83",
   "metadata": {},
   "outputs": [
    {
     "name": "stdout",
     "output_type": "stream",
     "text": [
      "run_id:  8f03c6c6c9eb4775ae14d63b31798cd5\n",
      "run_info:  <RunInfo: artifact_uri='mlflow-artifacts:/0/8f03c6c6c9eb4775ae14d63b31798cd5/artifacts', end_time=None, experiment_id='0', lifecycle_stage='active', run_id='8f03c6c6c9eb4775ae14d63b31798cd5', run_name='default_run3', run_uuid='8f03c6c6c9eb4775ae14d63b31798cd5', start_time=1738987895702, status='RUNNING', user_id='LEINTERNAL\\\\gyang'>\n",
      "run_start:  1738987895702\n",
      "run_end:  None\n"
     ]
    }
   ],
   "source": [
    "with mlflow.start_run(run_name='default_run3',experiment_id=0) as run:\n",
    "    params={'a':1,'b':2}\n",
    "    metrics={'mse':0.01,'auc':0.78}\n",
    "    #with open(\"hello_world1.txt\", \"w\") as f:\n",
    "    #        f.write(\"Hello World!\")\n",
    "    mlflow.log_artifacts(local_dir='./run_artifacts'\n",
    "                         ,artifact_path='run_artifacts')\n",
    "    mlflow.log_metrics(metrics)\n",
    "    mlflow.log_params(params)\n",
    "    mlflow.log_param('param2',2)\n",
    "    mlflow.log_metric('metric2',8)\n",
    "    print('run_id: ',run.info.run_id)\n",
    "    print('run_info: ',run.info)\n",
    "    print('run_start: ',run.info.start_time)\n",
    "    print('run_end: ',run.info.end_time)\n",
    "    \n",
    "    "
   ]
  },
  {
   "cell_type": "code",
   "execution_count": 28,
   "id": "a386dbe2",
   "metadata": {},
   "outputs": [
    {
     "data": {
      "text/plain": [
       "'/home/gyang'"
      ]
     },
     "execution_count": 28,
     "metadata": {},
     "output_type": "execute_result"
    }
   ],
   "source": [
    "pwd"
   ]
  },
  {
   "cell_type": "code",
   "execution_count": 25,
   "id": "d7ec7c91",
   "metadata": {},
   "outputs": [
    {
     "name": "stdout",
     "output_type": "stream",
     "text": [
      "run_id:  9d467c081a3e45ddb64901635c18b86d\n",
      "run information:  <RunInfo: artifact_uri='mlflow-artifacts:/0/9d467c081a3e45ddb64901635c18b86d/artifacts', end_time=None, experiment_id='927371486051665976', lifecycle_stage='active', run_id='9d467c081a3e45ddb64901635c18b86d', run_name='log_artifact8', run_uuid='9d467c081a3e45ddb64901635c18b86d', start_time=1707755863753, status='RUNNING', user_id='LEINTERNAL\\\\gyang'>\n",
      "start time:  1707755863753\n",
      "end time:  None\n"
     ]
    }
   ],
   "source": [
    "\n",
    "#mlflow.set_experiment('testing_mlflow3')\n",
    "with mlflow.start_run(run_name='log_artifact8',experiment_id=experiment_id) as run:\n",
    "    mlflow.log_param('learning_rate',0.03)\n",
    "    params={'batch_size':5,'loss':'mse'}\n",
    "    \n",
    "    mlflow.log_params(params)\n",
    "    mlflow.log_metric('mse',2)\n",
    "    metrics={'mae':3,'acc':0.9}\n",
    "    mlflow.log_metrics(metrics)\n",
    "    with open(\"hello_world1.txt\", \"w\") as f:\n",
    "            f.write(\"Hello World!\")\n",
    "    mlflow.log_artifacts(local_path='hello_world1.txt',artifact_path='hello_world1.txt')\n",
    "    print('run_id: ',run.info.run_id)\n",
    "    print('run information: ',run.info)\n",
    "    print('start time: ',run.info.start_time)\n",
    "    print('end time: ',run.info.end_time)"
   ]
  },
  {
   "cell_type": "code",
   "execution_count": 60,
   "id": "5b17fb6f",
   "metadata": {},
   "outputs": [
    {
     "name": "stdout",
     "output_type": "stream",
     "text": [
      "mlflow version: 2.7.0\n",
      "tracking uri: http://localhost:5000\n",
      "artifact uri: /home/gyang/Documents/airflow_docker/mlflow/testing_mlflow1_artifacts/65101733ba544c55b0e53fb390773e20/artifacts\n"
     ]
    }
   ],
   "source": [
    "p"
   ]
  },
  {
   "cell_type": "code",
   "execution_count": 63,
   "id": "67781b69",
   "metadata": {},
   "outputs": [
    {
     "data": {
      "text/plain": [
       "'/home/gyang'"
      ]
     },
     "execution_count": 63,
     "metadata": {},
     "output_type": "execute_result"
    }
   ],
   "source": [
    "pwd\n"
   ]
  },
  {
   "cell_type": "code",
   "execution_count": 71,
   "id": "626698e1",
   "metadata": {},
   "outputs": [],
   "source": [
    "X, y = make_classification(n_samples=1000, n_features=10, n_informative=5, n_redundant=5, random_state=42)\n",
    "X_train, X_test, y_train, y_test = train_test_split(X, y, test_size=0.2, random_state=43)\n",
    "model=RandomForestClassifier(max_depth=3).fit(X_train,y_train)"
   ]
  },
  {
   "cell_type": "code",
   "execution_count": 72,
   "id": "d706cf05",
   "metadata": {},
   "outputs": [
    {
     "data": {
      "text/plain": [
       "array([0, 0, 0, 1, 0, 1, 0, 0, 1, 0])"
      ]
     },
     "execution_count": 72,
     "metadata": {},
     "output_type": "execute_result"
    }
   ],
   "source": [
    "y_pred=model.predict(X_test)\n"
   ]
  },
  {
   "cell_type": "code",
   "execution_count": 73,
   "id": "330d13a4",
   "metadata": {},
   "outputs": [
    {
     "data": {
      "text/plain": [
       "array([0, 0, 0, 1, 0, 1, 0, 0, 0, 0])"
      ]
     },
     "execution_count": 73,
     "metadata": {},
     "output_type": "execute_result"
    }
   ],
   "source": [
    "y_test[:10]"
   ]
  },
  {
   "cell_type": "code",
   "execution_count": 44,
   "id": "0ff5e23d",
   "metadata": {},
   "outputs": [],
   "source": [
    "from sklearn.datasets import make_classification\n",
    "from sklearn.ensemble import RandomForestClassifier"
   ]
  },
  {
   "cell_type": "code",
   "execution_count": 45,
   "id": "1eef17c6",
   "metadata": {},
   "outputs": [],
   "source": [
    "from sklearn.model_selection import train_test_split\n",
    "from sklearn.metrics import RocCurveDisplay,PrecisionRecallDisplay,ConfusionMatrixDisplay"
   ]
  },
  {
   "cell_type": "code",
   "execution_count": 58,
   "id": "5937b293",
   "metadata": {},
   "outputs": [],
   "source": [
    "import matplotlib.pyplot as plt"
   ]
  },
  {
   "cell_type": "code",
   "execution_count": 20,
   "id": "3aceb63f-c5e1-4f13-b62e-fdb95fe81c4c",
   "metadata": {},
   "outputs": [],
   "source": [
    "model_id=mlflow.create_experiment(name='model2',\n",
    "                                  artifact_location='model2',\n",
    "                                  tags={'env':'dev','version':'1.0.0'})\n",
    "    "
   ]
  },
  {
   "cell_type": "code",
   "execution_count": 21,
   "id": "a1f1e6f3-762c-4031-b406-ed8ed39ceab2",
   "metadata": {},
   "outputs": [
    {
     "data": {
      "text/plain": [
       "'285817553150422711'"
      ]
     },
     "execution_count": 21,
     "metadata": {},
     "output_type": "execute_result"
    }
   ],
   "source": [
    "model_id"
   ]
  },
  {
   "cell_type": "code",
   "execution_count": 72,
   "id": "465b2679-9113-468d-ba5e-bae16303c101",
   "metadata": {},
   "outputs": [
    {
     "name": "stderr",
     "output_type": "stream",
     "text": [
      "2025/02/08 21:28:22 WARNING mlflow.utils.autologging_utils: You are using an unsupported version of sklearn. If you encounter errors during autologging, try upgrading / downgrading sklearn to a supported version, or try upgrading MLflow.\n"
     ]
    },
    {
     "name": "stdout",
     "output_type": "stream",
     "text": [
      "run info:  <RunInfo: artifact_uri='/home/gyang/Documents/airflow_docker/model/1ef0f503c6f74dbfb65422788410de44/artifacts', end_time=None, experiment_id='761901177914644030', lifecycle_stage='active', run_id='1ef0f503c6f74dbfb65422788410de44', run_name='log_model3', run_uuid='1ef0f503c6f74dbfb65422788410de44', start_time=1739071702594, status='RUNNING', user_id='LEINTERNAL\\\\gyang'>\n"
     ]
    }
   ],
   "source": [
    "with mlflow.start_run(run_name='log_model3',experiment_id=model_id) as run:\n",
    "    X, y = make_classification(n_samples=1000, n_features=10, n_informative=5, n_redundant=5, random_state=42)\n",
    "    train_X,test_X,train_y,test_y=train_test_split(X,y,test_size=0.2,random_state=43)\n",
    "    mlflow.sklearn.autolog()\n",
    "    #mlflow.sklearn.log_model(sk_model=model,artifact_path='sk/')\n",
    "    model=RandomForestClassifier(max_depth=3).fit(train_X,train_y)\n",
    "    y_pred=model.predict(test_X)\n",
    "    #mlflow.sklearn.log_model(sk_model=model,artifact_path='sk')\n",
    "    '''fig_roc=plt.figure()\n",
    "    fig1=RocCurveDisplay.from_predictions(test_y,y_pred,ax=plt.gca())\n",
    "    plt.title('Roc Curve')\n",
    "    plt.legend()\n",
    "    mlflow.log_figure(fig_roc,'Pct/roc.png')\n",
    "    fig_cm=plt.figure()\n",
    "    fig1=ConfusionMatrixDisplay.from_predictions(test_y,y_pred,ax=plt.gca())\n",
    "    plt.title('Confusion Matrix')\n",
    "    plt.legend()\n",
    "    mlflow.log_figure(fig_cm,'Pct/cm.png')'''\n",
    "    print('run info: ',run.info)\n",
    "    "
   ]
  },
  {
   "cell_type": "code",
   "execution_count": 76,
   "id": "cd7e69e9",
   "metadata": {},
   "outputs": [
    {
     "name": "stderr",
     "output_type": "stream",
     "text": [
      "No artists with labels found to put in legend.  Note that artists whose label start with an underscore are ignored when legend() is called with no argument.\n"
     ]
    },
    {
     "name": "stdout",
     "output_type": "stream",
     "text": [
      "run_id: 8fd55477ff8d40e7a1483679e4caf447\n",
      "experiment_id: 7\n",
      "status: RUNNING\n",
      "start_time: 1707258386522\n",
      "end_time: None\n",
      "lifecycle_stage: active\n"
     ]
    },
    {
     "data": {
      "image/png": "[encoded data removed]",
      "text/plain": [
       "<Figure size 640x480 with 1 Axes>"
      ]
     },
     "metadata": {},
     "output_type": "display_data"
    },
    {
     "data": {
      "image/png": "[encoded data removed]",
      "text/plain": [
       "<Figure size 640x480 with 1 Axes>"
      ]
     },
     "metadata": {},
     "output_type": "display_data"
    },
    {
     "data": {
      "image/png": "[encoded data removed]",
      "text/plain": [
       "<Figure size 640x480 with 2 Axes>"
      ]
     },
     "metadata": {},
     "output_type": "display_data"
    }
   ],
   "source": [
    "with mlflow.start_run(run_name='log_image2',experiment_id=7) as run:\n",
    "    X, y = make_classification(n_samples=1000, n_features=10, n_informative=5, n_redundant=5, random_state=42)\n",
    "    X_train, X_test, y_train, y_test = train_test_split(X, y, test_size=0.2, random_state=43)\n",
    "    model=RandomForestClassifier(max_depth=3).fit(X_train,y_train)\n",
    "    y_pred=model.predict(X_test)\n",
    "    fig_pr=plt.figure()\n",
    "    pr_dp=PrecisionRecallDisplay.from_predictions(y_test,y_pred,ax=plt.gca())\n",
    "    plt.title(\"Precision-Recall Curve\")\n",
    "    plt.legend()\n",
    "    mlflow.log_figure(fig_pr,'Pct/pr.png')\n",
    "\n",
    "    fig_rov=plt.figure()\n",
    "    rov_dp=RocCurveDisplay.from_predictions(y_test,y_pred,ax=plt.gca())\n",
    "    plt.title(\"ROC Curve\")\n",
    "    plt.legend()\n",
    "    mlflow.log_figure(fig_rov,'Pct/roc.png')\n",
    "\n",
    "    fig_cf=plt.figure()\n",
    "    cf_dp=ConfusionMatrixDisplay.from_predictions(y_test,y_pred,ax=plt.gca())\n",
    "    plt.title(\"Confusion Matrix\")\n",
    "    plt.legend()\n",
    "    mlflow.log_figure(fig_cf,'Pct/cf.png')\n",
    "    print(\"run_id: {}\".format(run.info.run_id))\n",
    "    print(\"experiment_id: {}\".format(run.info.experiment_id))\n",
    "    print(\"status: {}\".format(run.info.status))\n",
    "    print(\"start_time: {}\".format(run.info.start_time))\n",
    "    print(\"end_time: {}\".format(run.info.end_time))\n",
    "    print(\"lifecycle_stage: {}\".format(run.info.lifecycle_stage))\n",
    "    "
   ]
  },
  {
   "cell_type": "code",
   "execution_count": 79,
   "id": "9c065cd2",
   "metadata": {},
   "outputs": [
    {
     "name": "stdout",
     "output_type": "stream",
     "text": [
      "run_id: f330b3145411426e857de9a60e03b147\n",
      "experiment_id: 7\n",
      "status: RUNNING\n",
      "start_time: 1707260715973\n",
      "end_time: None\n",
      "lifecycle_stage: active\n"
     ]
    }
   ],
   "source": [
    "with mlflow.start_run(run_name='log_model2',experiment_id=7) as run:\n",
    "    X, y = make_classification(n_samples=1000, n_features=10, n_informative=5, n_redundant=5, random_state=42)\n",
    "    X_train, X_test, y_train, y_test = train_test_split(X, y, test_size=0.2, random_state=43)\n",
    "    #mlflow.autolog()\n",
    "    X_train = pd.DataFrame(X_train, columns=[\"feature_{}\".format(i) for i in range(10)])\n",
    "    X_test = pd.DataFrame(X_test, columns=[\"feature_{}\".format(i) for i in range(10)])\n",
    "    y_train = pd.DataFrame(y_train, columns=[\"target\"])\n",
    "    y_test = pd.DataFrame(y_test, columns=[\"target\"])\n",
    "\n",
    "    rfc = RandomForestClassifier(n_estimators=100, random_state=42)\n",
    "    rfc.fit(X_train, y_train)\n",
    "    y_pred = rfc.predict(X_test)\n",
    "    y_pred = pd.DataFrame(y_pred, columns=[\"prediction\"])\n",
    "    #model=RandomForestClassifier(max_depth=3).fit(X_train,y_train)\n",
    "    #y_pred=model.predict(X_test)\n",
    "    mlflow.sklearn.log_model(sk_model=model,artifact_path='rfc')\n",
    "    \n",
    "    print(\"run_id: {}\".format(run.info.run_id))\n",
    "    print(\"experiment_id: {}\".format(run.info.experiment_id))\n",
    "    print(\"status: {}\".format(run.info.status))\n",
    "    print(\"start_time: {}\".format(run.info.start_time))\n",
    "    print(\"end_time: {}\".format(run.info.end_time))\n",
    "    print(\"lifecycle_stage: {}\".format(run.info.lifecycle_stage))"
   ]
  },
  {
   "cell_type": "code",
   "execution_count": 74,
   "id": "c7a8592c",
   "metadata": {},
   "outputs": [],
   "source": [
    "run_id='1ef0f503c6f74dbfb65422788410de44'"
   ]
  },
  {
   "cell_type": "code",
   "execution_count": 73,
   "id": "f9943fbd-7bd9-4d6d-bb3b-485659669ef3",
   "metadata": {},
   "outputs": [
    {
     "data": {
      "text/plain": [
       "(200, 10)"
      ]
     },
     "execution_count": 73,
     "metadata": {},
     "output_type": "execute_result"
    }
   ],
   "source": [
    "test_X.shape"
   ]
  },
  {
   "cell_type": "code",
   "execution_count": 75,
   "id": "c3d6dcc5-92de-4fe6-a4db-f4f9624a5c94",
   "metadata": {},
   "outputs": [],
   "source": [
    "model_url=f'runs:/{run_id}/model'\n",
    "my_model=mlflow.sklearn.load_model(model_uri=model_url)"
   ]
  },
  {
   "cell_type": "code",
   "execution_count": 76,
   "id": "8dc3bb64-717c-4ed9-8a87-2d2c6161e472",
   "metadata": {},
   "outputs": [],
   "source": [
    "y_pred=my_model.predict(test_X)"
   ]
  },
  {
   "cell_type": "code",
   "execution_count": 47,
   "id": "924c090a",
   "metadata": {},
   "outputs": [],
   "source": [
    "import pandas as pd"
   ]
  },
  {
   "cell_type": "code",
   "execution_count": 87,
   "id": "b68fc66f",
   "metadata": {},
   "outputs": [
    {
     "name": "stderr",
     "output_type": "stream",
     "text": [
      "/home/gyang/miniconda3/lib/python3.10/site-packages/tqdm/auto.py:21: TqdmWarning: IProgress not found. Please update jupyter and ipywidgets. See https://ipywidgets.readthedocs.io/en/stable/user_install.html\n",
      "  from .autonotebook import tqdm as notebook_tqdm\n",
      "Downloading artifacts: 100%|█████████████████████| 5/5 [00:00<00:00, 572.87it/s]\n",
      "/home/gyang/.local/lib/python3.10/site-packages/sklearn/base.py:486: UserWarning: X has feature names, but RandomForestClassifier was fitted without feature names\n",
      "  warnings.warn(\n",
      "2024/02/06 18:51:52 WARNING mlflow.utils.autologging_utils: MLflow autologging encountered a warning: \"/home/gyang/.local/lib/python3.10/site-packages/mlflow/data/digest_utils.py:26: FutureWarning: DataFrame.applymap has been deprecated. Use DataFrame.map instead.\"\n"
     ]
    },
    {
     "name": "stdout",
     "output_type": "stream",
     "text": [
      "   prediction\n",
      "0           0\n",
      "1           0\n",
      "2           0\n",
      "3           1\n",
      "4           0\n"
     ]
    }
   ],
   "source": [
    "#with mlflow.start_run(run_name='log_infer1',experiment_id=7) as run:\n",
    "X, y = make_classification(n_samples=1000, n_features=10, n_informative=5, n_redundant=5, random_state=42)\n",
    "X_train, X_test, y_train, y_test = train_test_split(X, y, test_size=0.2, random_state=43)\n",
    "#mlflow.autolog()\n",
    "X_train = pd.DataFrame(X_train, columns=[\"feature_{}\".format(i) for i in range(10)])\n",
    "X_test = pd.DataFrame(X_test, columns=[\"feature_{}\".format(i) for i in range(10)])\n",
    "y_train = pd.DataFrame(y_train, columns=[\"target\"])\n",
    "y_test = pd.DataFrame(y_test, columns=[\"target\"])\n",
    "model_url=f'runs:/{run_id}/rfc'\n",
    "rfc=mlflow.sklearn.load_model(model_uri=model_url)\n",
    "y_pred=rfc.predict(X_test)\n",
    "y_pred = pd.DataFrame(y_pred, columns=[\"prediction\"])\n",
    "\n",
    "print(y_pred.head())\n",
    "\n",
    "\n",
    "    \n",
    "    \n",
    "    \n",
    "    "
   ]
  },
  {
   "cell_type": "code",
   "execution_count": 88,
   "id": "d66bd204",
   "metadata": {},
   "outputs": [],
   "source": [
    "experiment_id=mlflow.create_experiment(\n",
    "    name='mlflow_test8',\n",
    "    artifact_location='mlflow-artifacts:/0')"
   ]
  },
  {
   "cell_type": "code",
   "execution_count": 89,
   "id": "b436640f",
   "metadata": {},
   "outputs": [
    {
     "name": "stdout",
     "output_type": "stream",
     "text": [
      "8\n"
     ]
    }
   ],
   "source": [
    "print(experiment_id)"
   ]
  },
  {
   "cell_type": "code",
   "execution_count": 22,
   "id": "be556f67",
   "metadata": {},
   "outputs": [
    {
     "name": "stdout",
     "output_type": "stream",
     "text": [
      "RUN ID parent: 842e207b94b146eeb069d1fd2d91ce6b\n",
      "RUN ID child1: d8af3dadcd724852bc81d12396bb260f\n",
      "RUN ID child_11: d3513a90c8eb4c4ba2fbbb1fed84fd6b\n",
      "RUN ID child2: d8bba7d372d44af0b85030a8e8adbc32\n"
     ]
    }
   ],
   "source": [
    "with mlflow.start_run(run_name='parent2',experiment_id=model_id) as run:\n",
    "    print(\"RUN ID parent:\", run.info.run_id)\n",
    "\n",
    "    mlflow.log_param(\"parent_param\", \"parent_value\")\n",
    "    with mlflow.start_run(run_name='child1',nested=True,experiment_id=model_id) as child1:\n",
    "        print(\"RUN ID child1:\", child1.info.run_id)\n",
    "        mlflow.log_param(\"child1_param\", \"child1_value\")\n",
    "        with mlflow.start_run(run_name=\"child_11\",nested=True,experiment_id=model_id) as child_11:\n",
    "            print(\"RUN ID child_11:\", child_11.info.run_id )\n",
    "            mlflow.log_param(\"child_11_param\", \"child_11_value\")\n",
    "    with mlflow.start_run(run_name='child2',nested=True,experiment_id=model_id) as child2:\n",
    "        print(\"RUN ID child2:\", child2.info.run_id)\n",
    "        mlflow.log_param(\"child2_param\", \"child2_value\")\n",
    "    "
   ]
  },
  {
   "cell_type": "code",
   "execution_count": 32,
   "id": "b79b4da1",
   "metadata": {},
   "outputs": [],
   "source": [
    "class CustomModel(mlflow.pyfunc.PythonModel):\n",
    "\n",
    "    def __init__(self):\n",
    "        pass \n",
    "\n",
    "    def fit(self):\n",
    "        print(\"Fitting model...\")\n",
    "\n",
    "    def predict(self,context,model_input:[str]):\n",
    "        return self.get_prediction(model_input)\n",
    "    \n",
    "    def get_prediction(self, model_input:[str]):\n",
    "        # do something with the model input\n",
    "        return \" \".join([w.upper() for w in model_input])\n",
    "    \n"
   ]
  },
  {
   "cell_type": "code",
   "execution_count": 23,
   "id": "7d737b0e-2177-492c-8bf1-f78ec0f72be2",
   "metadata": {},
   "outputs": [],
   "source": [
    "custom_id=mlflow.create_experiment(name='custom_model1',\n",
    "                                  artifact_location='mlflow-artifacts:/0')"
   ]
  },
  {
   "cell_type": "code",
   "execution_count": 35,
   "id": "108e01a6",
   "metadata": {},
   "outputs": [
    {
     "name": "stderr",
     "output_type": "stream",
     "text": [
      "2025/02/09 21:29:57 INFO mlflow.types.utils: Unsupported type hint: [<class 'str'>], skipping schema inference\n"
     ]
    },
    {
     "name": "stdout",
     "output_type": "stream",
     "text": [
      "Fitting model...\n"
     ]
    },
    {
     "name": "stderr",
     "output_type": "stream",
     "text": [
      "/home/gyang/.local/lib/python3.10/site-packages/tqdm/auto.py:21: TqdmWarning: IProgress not found. Please update jupyter and ipywidgets. See https://ipywidgets.readthedocs.io/en/stable/user_install.html\n",
      "  from .autonotebook import tqdm as notebook_tqdm\n",
      "Downloading artifacts: 100%|██████████████████████| 5/5 [00:00<00:00, 88.99it/s]"
     ]
    },
    {
     "name": "stdout",
     "output_type": "stream",
     "text": [
      "HELLO\n"
     ]
    },
    {
     "name": "stderr",
     "output_type": "stream",
     "text": [
      "\n"
     ]
    }
   ],
   "source": [
    "with mlflow.start_run(run_name='customer model',experiment_id=custom_id) as run:\n",
    "    cmodel=CustomModel()\n",
    "    cmodel.fit()\n",
    "    mlflow.pyfunc.log_model(python_model=cmodel,artifact_path='custom')\n",
    "    mlflow.log_param('test','cmodel')\n",
    "    my_model=mlflow.pyfunc.load_model(f'runs:/{run.info.run_id}/custom')\n",
    "    pred=my_model.predict(['hello'])\n",
    "    \n",
    "    print(pred)\n",
    "    "
   ]
  },
  {
   "cell_type": "code",
   "execution_count": 80,
   "id": "228dceae",
   "metadata": {},
   "outputs": [],
   "source": [
    "from mlflow.models.signature import ModelSignature,infer_signature"
   ]
  },
  {
   "cell_type": "code",
   "execution_count": 81,
   "id": "2cfc7267",
   "metadata": {},
   "outputs": [],
   "source": [
    "from mlflow.types.schema import Schema,ParamSchema,ParamSpec,ColSpec"
   ]
  },
  {
   "cell_type": "code",
   "execution_count": 82,
   "id": "5f4381be",
   "metadata": {},
   "outputs": [],
   "source": [
    "def get_train_data():\n",
    "    \"\"\"\n",
    "    Generate train and test data.\n",
    "\n",
    "    :return: x_train,y_train\n",
    "    \"\"\"\n",
    "    x, y = make_classification()\n",
    "    features = [f\"feature_{i+1}\" for i in range(x.shape[1])]\n",
    "    df = pd.DataFrame(x, columns=features)\n",
    "    df[\"label\"] = y\n",
    "\n",
    "    return df[features], df[\"label\"]"
   ]
  },
  {
   "cell_type": "code",
   "execution_count": 83,
   "id": "5e94887a",
   "metadata": {},
   "outputs": [],
   "source": [
    "x_train, y_train = get_train_data()\n",
    "cols_spec = []\n",
    "data_map = {\n",
    "    'int64': 'integer',\n",
    "    'float64': 'double',\n",
    "    'bool': 'boolean',\n",
    "    'str': 'string',\n",
    "    \"date\": 'datetime'\n",
    "}\n"
   ]
  },
  {
   "cell_type": "code",
   "execution_count": 84,
   "id": "e0cc3868",
   "metadata": {},
   "outputs": [
    {
     "name": "stdout",
     "output_type": "stream",
     "text": [
      "MODEL SIGNATURE\n",
      "{'inputs': '[{\"type\": \"double\", \"name\": \"feature_1\"}, {\"type\": \"double\", \"name\": \"feature_2\"}, {\"type\": \"double\", \"name\": \"feature_3\"}, {\"type\": \"double\", \"name\": \"feature_4\"}, {\"type\": \"double\", \"name\": \"feature_5\"}, {\"type\": \"double\", \"name\": \"feature_6\"}, {\"type\": \"double\", \"name\": \"feature_7\"}, {\"type\": \"double\", \"name\": \"feature_8\"}, {\"type\": \"double\", \"name\": \"feature_9\"}, {\"type\": \"double\", \"name\": \"feature_10\"}, {\"type\": \"double\", \"name\": \"feature_11\"}, {\"type\": \"double\", \"name\": \"feature_12\"}, {\"type\": \"double\", \"name\": \"feature_13\"}, {\"type\": \"double\", \"name\": \"feature_14\"}, {\"type\": \"double\", \"name\": \"feature_15\"}, {\"type\": \"double\", \"name\": \"feature_16\"}, {\"type\": \"double\", \"name\": \"feature_17\"}, {\"type\": \"double\", \"name\": \"feature_18\"}, {\"type\": \"double\", \"name\": \"feature_19\"}, {\"type\": \"double\", \"name\": \"feature_20\"}]', 'outputs': '[{\"type\": \"integer\", \"name\": \"lable\"}]', 'params': '[{\"name\": \"model_name\", \"type\": \"string\", \"default\": \"model1\", \"shape\": null}]'}\n"
     ]
    }
   ],
   "source": [
    "for name,dtype in x_train.dtypes.to_dict().items():\n",
    "    cols_spec.append(ColSpec(name=name,type=data_map[str(dtype)]))\n",
    "input_schema = Schema(inputs=cols_spec)\n",
    "output_schema = Schema([ColSpec(name='lable',type='integer')])\n",
    "\n",
    "parameter = ParamSpec(name='model_name',dtype='string',default='model1')\n",
    "param_schema = ParamSchema(params=[parameter])\n",
    "\n",
    "model_signature = ModelSignature(inputs=input_schema,outputs=output_schema,params=param_schema)\n",
    "print(\"MODEL SIGNATURE\")\n",
    "print(model_signature.to_dict())\n",
    "\n"
   ]
  },
  {
   "cell_type": "code",
   "execution_count": 85,
   "id": "c4e7aa25-f07a-4080-90a7-af265f5a9be4",
   "metadata": {},
   "outputs": [
    {
     "name": "stderr",
     "output_type": "stream",
     "text": [
      "/home/gyang/.local/lib/python3.10/site-packages/mlflow/models/signature.py:213: UserWarning: Hint: Inferred schema contains integer column(s). Integer columns in Python cannot represent missing values. If your input data contains missing values at inference time, it will be encoded as floats and will cause a schema enforcement error. The best way to avoid this problem is to infer the model schema based on a realistic data sample (training dataset) that includes missing values. Alternatively, you can declare integer columns as doubles (float64) whenever these columns may have missing values. See `Handling Integers With Missing Values <https://www.mlflow.org/docs/latest/models.html#handling-integers-with-missing-values>`_ for more details.\n",
      "  outputs = _infer_schema(model_output) if model_output is not None else None\n"
     ]
    }
   ],
   "source": [
    "model_signature=infer_signature(x_train,y_train,params={'model_name':'model2'})"
   ]
  },
  {
   "cell_type": "code",
   "execution_count": 86,
   "id": "aed28b93",
   "metadata": {},
   "outputs": [
    {
     "name": "stderr",
     "output_type": "stream",
     "text": [
      "/home/gyang/miniconda3/lib/python3.10/site-packages/_distutils_hack/__init__.py:18: UserWarning: Distutils was imported before Setuptools, but importing Setuptools also replaces the `distutils` module in `sys.modules`. This may lead to undesirable behaviors or errors. To avoid these issues, avoid using distutils directly, ensure that setuptools is installed in the traditional way (e.g. not an editable install), and/or make sure that setuptools is always imported before distutils.\n",
      "  warnings.warn(\n",
      "/home/gyang/miniconda3/lib/python3.10/site-packages/_distutils_hack/__init__.py:33: UserWarning: Setuptools is replacing distutils.\n",
      "  warnings.warn(\"Setuptools is replacing distutils.\")\n"
     ]
    }
   ],
   "source": [
    "with mlflow.start_run(run_name=\"model_signature_run\",experiment_id=model_id) as run:\n",
    "        mlflow.sklearn.log_model(\n",
    "            sk_model=RandomForestClassifier(),\n",
    "            artifact_path=\"model_signature\",\n",
    "            signature=model_signature,\n",
    "        )"
   ]
  },
  {
   "cell_type": "code",
   "execution_count": 51,
   "id": "4838e578",
   "metadata": {},
   "outputs": [],
   "source": [
    "import numpy as np\n",
    "\n",
    "\n",
    "class CustomModel(mlflow.pyfunc.PythonModel):\n",
    "    def predict_model1(self, model_input):\n",
    "        # do some processing for model 1\n",
    "        return 0 * model_input\n",
    "\n",
    "    def predict_model2(self, model_input):\n",
    "        # do some processing for model 2\n",
    "        return model_input\n",
    "\n",
    "    def predict_model3(self, model_input):\n",
    "        # do some processing for model 3\n",
    "        return 2 * model_input\n",
    "\n",
    "    def predict(self, context, model_input, params):\n",
    "        if params[\"model_name\"] == \"model_1\":\n",
    "            return self.predict_model1(model_input=model_input)\n",
    "\n",
    "        elif params[\"model_name\"] == \"model_2\":\n",
    "            return self.predict_model2(model_input=model_input)\n",
    "\n",
    "        elif params[\"model_name\"] == \"model_3\":\n",
    "            return self.predict_model3(model_input=model_input)\n",
    "\n",
    "        else:\n",
    "            raise Exception(\"Model Not Found!\")\n",
    "\n"
   ]
  },
  {
   "cell_type": "code",
   "execution_count": 52,
   "id": "aaca8451",
   "metadata": {},
   "outputs": [],
   "source": [
    "input_schema = Schema(inputs=[ColSpec(type=\"integer\", name=\"input\")])\n",
    "output_schema = Schema(inputs=[ColSpec(type=\"integer\", name=\"output\")])\n",
    "param_spec=ParamSpec(name='model_name',dtype='string',default=None)\n",
    "param_schema=ParamSchema(params=[param_spec])\n",
    "model_signature=ModelSignature(inputs=input_schema,outputs=output_schema,params=param_schema)"
   ]
  },
  {
   "cell_type": "code",
   "execution_count": 57,
   "id": "c5f5a022",
   "metadata": {},
   "outputs": [
    {
     "name": "stdout",
     "output_type": "stream",
     "text": [
      "   input\n",
      "0      0\n",
      "   input\n",
      "0     10\n",
      "   input\n",
      "0     20\n"
     ]
    },
    {
     "name": "stderr",
     "output_type": "stream",
     "text": [
      "/home/gyang/miniconda3/lib/python3.10/site-packages/_distutils_hack/__init__.py:18: UserWarning: Distutils was imported before Setuptools, but importing Setuptools also replaces the `distutils` module in `sys.modules`. This may lead to undesirable behaviors or errors. To avoid these issues, avoid using distutils directly, ensure that setuptools is installed in the traditional way (e.g. not an editable install), and/or make sure that setuptools is always imported before distutils.\n",
      "  warnings.warn(\n",
      "/home/gyang/miniconda3/lib/python3.10/site-packages/_distutils_hack/__init__.py:33: UserWarning: Setuptools is replacing distutils.\n",
      "  warnings.warn(\"Setuptools is replacing distutils.\")\n"
     ]
    }
   ],
   "source": [
    "with mlflow.start_run(run_name=\"mutiple_model_signature\",experiment_id=model_id) as run:\n",
    "    mlflow.pyfunc.log_model(python_model=CustomModel(),\n",
    "                            artifact_path='mutiple_model_signature',\n",
    "                            signature=model_signature)\n",
    "    model_uri=f'runs:/{run.info.run_id}/mutiple_model_signature'\n",
    "    my_model=mlflow.pyfunc.load_model(model_uri)\n",
    "    for i in range(3):\n",
    "        print(my_model.predict(data={\"input\":np.int32(10)},params={'model_name':f'model_{i+1}'}))"
   ]
  },
  {
   "cell_type": "code",
   "execution_count": 59,
   "id": "c8ab7d62-d295-4fc4-b9e5-d81bb703c54b",
   "metadata": {},
   "outputs": [],
   "source": [
    "from sklearn.ensemble import RandomForestRegressor"
   ]
  },
  {
   "cell_type": "code",
   "execution_count": 60,
   "id": "e47e6340",
   "metadata": {},
   "outputs": [
    {
     "name": "stderr",
     "output_type": "stream",
     "text": [
      "/home/gyang/miniconda3/lib/python3.10/site-packages/_distutils_hack/__init__.py:18: UserWarning: Distutils was imported before Setuptools, but importing Setuptools also replaces the `distutils` module in `sys.modules`. This may lead to undesirable behaviors or errors. To avoid these issues, avoid using distutils directly, ensure that setuptools is installed in the traditional way (e.g. not an editable install), and/or make sure that setuptools is always imported before distutils.\n",
      "  warnings.warn(\n",
      "/home/gyang/miniconda3/lib/python3.10/site-packages/_distutils_hack/__init__.py:33: UserWarning: Setuptools is replacing distutils.\n",
      "  warnings.warn(\"Setuptools is replacing distutils.\")\n",
      "Successfully registered model 'custom'.\n",
      "2025/02/10 10:44:00 INFO mlflow.tracking._model_registry.client: Waiting up to 300 seconds for model version to finish creation. Model name: custom, version 1\n",
      "Created version '1' of model 'custom'.\n",
      "Successfully registered model 'rf_classification'.\n",
      "2025/02/10 10:44:03 INFO mlflow.tracking._model_registry.client: Waiting up to 300 seconds for model version to finish creation. Model name: rf_classification, version 1\n",
      "Created version '1' of model 'rf_classification'.\n"
     ]
    }
   ],
   "source": [
    "with mlflow.start_run(run_name=\"registered_model\",experiment_id=model_id) as run:\n",
    "    mlflow.pyfunc.log_model(python_model=CustomModel(),artifact_path='model_registered1',registered_model_name='custom')\n",
    "    mlflow.sklearn.log_model(\n",
    "            sk_model=RandomForestClassifier(),\n",
    "            artifact_path=\"model_registered2\",registered_model_name='rf_classification'\n",
    "\n",
    "        )\n",
    "    mlflow.sklearn.log_model(sk_model=RandomForestRegressor(),artifact_path='model')\n",
    "    #my_model=mlflow.pyfunc.load_model(model_uri=f\"runs:/{run.info.run_id}/model_signature\")"
   ]
  },
  {
   "cell_type": "code",
   "execution_count": 61,
   "id": "adac39bf",
   "metadata": {},
   "outputs": [],
   "source": [
    "from mlflow import MlflowClient"
   ]
  },
  {
   "cell_type": "code",
   "execution_count": 62,
   "id": "c4338e05",
   "metadata": {},
   "outputs": [],
   "source": [
    "client=MlflowClient()\n",
    "model_name = \"registered_model_1\""
   ]
  },
  {
   "cell_type": "code",
   "execution_count": 63,
   "id": "5256680d",
   "metadata": {},
   "outputs": [
    {
     "data": {
      "text/plain": [
       "<RegisteredModel: aliases={}, creation_timestamp=1739217838516, description='', last_updated_timestamp=1739217838516, latest_versions=[], name='registered_model_1', tags={}>"
      ]
     },
     "execution_count": 63,
     "metadata": {},
     "output_type": "execute_result"
    }
   ],
   "source": [
    "client.create_registered_model(model_name)"
   ]
  },
  {
   "cell_type": "code",
   "execution_count": 67,
   "id": "50a3041b",
   "metadata": {},
   "outputs": [
    {
     "name": "stderr",
     "output_type": "stream",
     "text": [
      "2025/02/10 14:27:53 INFO mlflow.tracking._model_registry.client: Waiting up to 300 seconds for model version to finish creation. Model name: registered_model_1, version 2\n"
     ]
    },
    {
     "data": {
      "text/plain": [
       "<ModelVersion: aliases=[], creation_timestamp=1739219273274, current_stage='None', description='', last_updated_timestamp=1739219273274, name='registered_model_1', run_id='90fc24ea98e74e56847b68b0dc795835', run_link='', source='runs:/90fc24ea98e74e56847b68b0dc795835/model', status='READY', status_message='', tags={}, user_id='', version='2'>"
      ]
     },
     "execution_count": 67,
     "metadata": {},
     "output_type": "execute_result"
    }
   ],
   "source": [
    "source='runs:/90fc24ea98e74e56847b68b0dc795835/model'\n",
    "run_id='90fc24ea98e74e56847b68b0dc795835'\n",
    "client.create_model_version(name=model_name,source=source,run_id=run_id)"
   ]
  },
  {
   "cell_type": "code",
   "execution_count": 68,
   "id": "239973d8",
   "metadata": {},
   "outputs": [
    {
     "data": {
      "text/plain": [
       "<ModelVersion: aliases=[], creation_timestamp=1739219023754, current_stage='Archived', description='', last_updated_timestamp=1739219443679, name='registered_model_1', run_id='90fc24ea98e74e56847b68b0dc795835', run_link='', source='runs:/90fc24ea98e74e56847b68b0dc795835/model', status='READY', status_message='', tags={}, user_id='', version='1'>"
      ]
     },
     "execution_count": 68,
     "metadata": {},
     "output_type": "execute_result"
    }
   ],
   "source": [
    "client.transition_model_version_stage(name=model_name,version=1,stage='Archived')"
   ]
  },
  {
   "cell_type": "code",
   "execution_count": 69,
   "id": "f815976c",
   "metadata": {},
   "outputs": [],
   "source": [
    "client.delete_model_version(name=model_name,version=1)"
   ]
  },
  {
   "cell_type": "code",
   "execution_count": 133,
   "id": "eb2cb48b",
   "metadata": {},
   "outputs": [],
   "source": [
    "client.delete_registered_model(name=model_name)"
   ]
  },
  {
   "cell_type": "code",
   "execution_count": 70,
   "id": "97dd5654",
   "metadata": {},
   "outputs": [
    {
     "data": {
      "text/plain": [
       "<RegisteredModel: aliases={}, creation_timestamp=1739205843396, description='This is the test model', last_updated_timestamp=1739220291642, latest_versions=[<ModelVersion: aliases=[], creation_timestamp=1739216804656, current_stage='None', description='', last_updated_timestamp=1739216804656, name='rf_classification', run_id='90fc24ea98e74e56847b68b0dc795835', run_link='', source='/home/gyang/Documents/airflow_docker/model2/90fc24ea98e74e56847b68b0dc795835/artifacts/model', status='READY', status_message='', tags={}, user_id='', version='2'>], name='rf_classification', tags={}>"
      ]
     },
     "execution_count": 70,
     "metadata": {},
     "output_type": "execute_result"
    }
   ],
   "source": [
    "client.update_registered_model(name='rf_classification',description='This is the test model')"
   ]
  },
  {
   "cell_type": "code",
   "execution_count": 73,
   "id": "f9f063af-ae8f-4bed-a405-040c7c009a46",
   "metadata": {},
   "outputs": [],
   "source": [
    "client.set_registered_model_tag(name='rf_classification',key='key',value='l')"
   ]
  },
  {
   "cell_type": "code",
   "execution_count": 71,
   "id": "1f76add6",
   "metadata": {},
   "outputs": [
    {
     "data": {
      "text/plain": [
       "<ModelVersion: aliases=[], creation_timestamp=1739205843414, current_stage='None', description='This is the test model', last_updated_timestamp=1739220479819, name='rf_classification', run_id='90fc24ea98e74e56847b68b0dc795835', run_link='', source='/home/gyang/Documents/airflow_docker/model2/90fc24ea98e74e56847b68b0dc795835/artifacts/model_registered2', status='READY', status_message='', tags={}, user_id='', version='1'>"
      ]
     },
     "execution_count": 71,
     "metadata": {},
     "output_type": "execute_result"
    }
   ],
   "source": [
    "client.update_model_version(name='rf_classification',version=1,description='This is the test model')"
   ]
  },
  {
   "cell_type": "markdown",
   "id": "885ba1a3",
   "metadata": {},
   "source": [
    "## Project"
   ]
  },
  {
   "cell_type": "code",
   "execution_count": 74,
   "id": "cbcfbd84",
   "metadata": {},
   "outputs": [],
   "source": [
    "from sklearn.datasets import fetch_california_housing"
   ]
  },
  {
   "cell_type": "code",
   "execution_count": 2,
   "id": "f5899082",
   "metadata": {},
   "outputs": [
    {
     "name": "stderr",
     "output_type": "stream",
     "text": [
      "/home/gyang/miniconda3/lib/python3.10/site-packages/pydantic/_internal/_fields.py:149: UserWarning: Field \"model_server_url\" has conflict with protected namespace \"model_\".\n",
      "\n",
      "You may be able to resolve this warning by setting `model_config['protected_namespaces'] = ()`.\n",
      "  warnings.warn(\n",
      "/home/gyang/miniconda3/lib/python3.10/site-packages/pydantic/_internal/_config.py:321: UserWarning: Valid config keys have changed in V2:\n",
      "* 'schema_extra' has been renamed to 'json_schema_extra'\n",
      "  warnings.warn(message, UserWarning)\n"
     ]
    }
   ],
   "source": [
    "import pandas as pd\n",
    "import mlflow"
   ]
  },
  {
   "cell_type": "code",
   "execution_count": 75,
   "id": "b8e545fa",
   "metadata": {},
   "outputs": [],
   "source": [
    "def load_data() -> pd.DataFrame:\n",
    "    \"\"\"\n",
    "    Download the California housing dataset and return it as a pandas dataframe.\n",
    "\n",
    "    :return: California housing dataset as a pandas dataframe.\n",
    "    \"\"\"\n",
    "    #cur_directory_path = os.path.abspath(os.path.dirname(__file__))\n",
    "    data = fetch_california_housing(\n",
    "        data_home='./data', as_frame=True, download_if_missing=True\n",
    "    )\n",
    "    return data.frame\n",
    "\n",
    "\n",
    "def get_feature_dataframe() -> pd.DataFrame:\n",
    "    \"\"\"\n",
    "    Get the feature dataframe.\n",
    "\n",
    "    :return: Feature dataframe.\n",
    "    \"\"\"\n",
    "    df = load_data()\n",
    "    df[\"id\"] = df.index\n",
    "    df[\"target\"] = df[\"MedHouseVal\"] >= df[\"MedHouseVal\"].median()\n",
    "    df[\"target\"] = df[\"target\"].astype(int)\n",
    " \n",
    "    return df"
   ]
  },
  {
   "cell_type": "code",
   "execution_count": 76,
   "id": "b789ba6f",
   "metadata": {},
   "outputs": [],
   "source": [
    "experiment_name = \"house_pricing_classifier2\"\n",
    "run_name = \"training_classifier\"\n",
    "model_name = \"registered_model\"\n",
    "artifact_path = \"model\"\n",
    "df = get_feature_dataframe()"
   ]
  },
  {
   "cell_type": "code",
   "execution_count": 6,
   "id": "db2aec96",
   "metadata": {},
   "outputs": [
    {
     "data": {
      "text/html": [
       "<div>\n",
       "<style scoped>\n",
       "    .dataframe tbody tr th:only-of-type {\n",
       "        vertical-align: middle;\n",
       "    }\n",
       "\n",
       "    .dataframe tbody tr th {\n",
       "        vertical-align: top;\n",
       "    }\n",
       "\n",
       "    .dataframe thead th {\n",
       "        text-align: right;\n",
       "    }\n",
       "</style>\n",
       "<table border=\"1\" class=\"dataframe\">\n",
       "  <thead>\n",
       "    <tr style=\"text-align: right;\">\n",
       "      <th></th>\n",
       "      <th>MedInc</th>\n",
       "      <th>HouseAge</th>\n",
       "      <th>AveRooms</th>\n",
       "      <th>AveBedrms</th>\n",
       "      <th>Population</th>\n",
       "      <th>AveOccup</th>\n",
       "      <th>Latitude</th>\n",
       "      <th>Longitude</th>\n",
       "      <th>MedHouseVal</th>\n",
       "      <th>id</th>\n",
       "      <th>target</th>\n",
       "    </tr>\n",
       "  </thead>\n",
       "  <tbody>\n",
       "    <tr>\n",
       "      <th>0</th>\n",
       "      <td>8.3252</td>\n",
       "      <td>41.0</td>\n",
       "      <td>6.984127</td>\n",
       "      <td>1.023810</td>\n",
       "      <td>322.0</td>\n",
       "      <td>2.555556</td>\n",
       "      <td>37.88</td>\n",
       "      <td>-122.23</td>\n",
       "      <td>4.526</td>\n",
       "      <td>0</td>\n",
       "      <td>1</td>\n",
       "    </tr>\n",
       "    <tr>\n",
       "      <th>1</th>\n",
       "      <td>8.3014</td>\n",
       "      <td>21.0</td>\n",
       "      <td>6.238137</td>\n",
       "      <td>0.971880</td>\n",
       "      <td>2401.0</td>\n",
       "      <td>2.109842</td>\n",
       "      <td>37.86</td>\n",
       "      <td>-122.22</td>\n",
       "      <td>3.585</td>\n",
       "      <td>1</td>\n",
       "      <td>1</td>\n",
       "    </tr>\n",
       "    <tr>\n",
       "      <th>2</th>\n",
       "      <td>7.2574</td>\n",
       "      <td>52.0</td>\n",
       "      <td>8.288136</td>\n",
       "      <td>1.073446</td>\n",
       "      <td>496.0</td>\n",
       "      <td>2.802260</td>\n",
       "      <td>37.85</td>\n",
       "      <td>-122.24</td>\n",
       "      <td>3.521</td>\n",
       "      <td>2</td>\n",
       "      <td>1</td>\n",
       "    </tr>\n",
       "    <tr>\n",
       "      <th>3</th>\n",
       "      <td>5.6431</td>\n",
       "      <td>52.0</td>\n",
       "      <td>5.817352</td>\n",
       "      <td>1.073059</td>\n",
       "      <td>558.0</td>\n",
       "      <td>2.547945</td>\n",
       "      <td>37.85</td>\n",
       "      <td>-122.25</td>\n",
       "      <td>3.413</td>\n",
       "      <td>3</td>\n",
       "      <td>1</td>\n",
       "    </tr>\n",
       "    <tr>\n",
       "      <th>4</th>\n",
       "      <td>3.8462</td>\n",
       "      <td>52.0</td>\n",
       "      <td>6.281853</td>\n",
       "      <td>1.081081</td>\n",
       "      <td>565.0</td>\n",
       "      <td>2.181467</td>\n",
       "      <td>37.85</td>\n",
       "      <td>-122.25</td>\n",
       "      <td>3.422</td>\n",
       "      <td>4</td>\n",
       "      <td>1</td>\n",
       "    </tr>\n",
       "  </tbody>\n",
       "</table>\n",
       "</div>"
      ],
      "text/plain": [
       "   MedInc  HouseAge  AveRooms  AveBedrms  Population  AveOccup  Latitude  \\\n",
       "0  8.3252      41.0  6.984127   1.023810       322.0  2.555556     37.88   \n",
       "1  8.3014      21.0  6.238137   0.971880      2401.0  2.109842     37.86   \n",
       "2  7.2574      52.0  8.288136   1.073446       496.0  2.802260     37.85   \n",
       "3  5.6431      52.0  5.817352   1.073059       558.0  2.547945     37.85   \n",
       "4  3.8462      52.0  6.281853   1.081081       565.0  2.181467     37.85   \n",
       "\n",
       "   Longitude  MedHouseVal  id  target  \n",
       "0    -122.23        4.526   0       1  \n",
       "1    -122.22        3.585   1       1  \n",
       "2    -122.24        3.521   2       1  \n",
       "3    -122.25        3.413   3       1  \n",
       "4    -122.25        3.422   4       1  "
      ]
     },
     "execution_count": 6,
     "metadata": {},
     "output_type": "execute_result"
    }
   ],
   "source": [
    "df.head()"
   ]
  },
  {
   "cell_type": "code",
   "execution_count": 77,
   "id": "55f5ec89",
   "metadata": {},
   "outputs": [],
   "source": [
    "from sklearn.pipeline import Pipeline\n",
    "from sklearn.compose import ColumnTransformer\n",
    "from sklearn.impute import SimpleImputer\n",
    "from sklearn.preprocessing import OneHotEncoder\n",
    "#from sklearn.ensemble import RandomForestClassifier"
   ]
  },
  {
   "cell_type": "code",
   "execution_count": 150,
   "id": "4ffaca5e",
   "metadata": {},
   "outputs": [],
   "source": [
    "from sklearn.preprocessing import Normalizer"
   ]
  },
  {
   "cell_type": "code",
   "execution_count": 151,
   "id": "b737d4bf",
   "metadata": {},
   "outputs": [],
   "source": [
    "ct = ColumnTransformer(\n",
    "...     [(\"norm1\", Normalizer(norm='l1'), [0, 1]),\n",
    "...      (\"norm2\", Normalizer(norm='l1'), slice(2, 4))])"
   ]
  },
  {
   "cell_type": "code",
   "execution_count": 153,
   "id": "9108c96a",
   "metadata": {},
   "outputs": [],
   "source": [
    " x=np.array([[0., 1., 2., 2.],\n",
    "...               [1., 1., 0., 1.]])"
   ]
  },
  {
   "cell_type": "code",
   "execution_count": 1,
   "id": "999a2c71",
   "metadata": {},
   "outputs": [
    {
     "ename": "NameError",
     "evalue": "name 'ct' is not defined",
     "output_type": "error",
     "traceback": [
      "\u001b[0;31m---------------------------------------------------------------------------\u001b[0m",
      "\u001b[0;31mNameError\u001b[0m                                 Traceback (most recent call last)",
      "Cell \u001b[0;32mIn[1], line 1\u001b[0m\n\u001b[0;32m----> 1\u001b[0m \u001b[43mct\u001b[49m\u001b[38;5;241m.\u001b[39mfit_transform(x)\n",
      "\u001b[0;31mNameError\u001b[0m: name 'ct' is not defined"
     ]
    }
   ],
   "source": [
    "url = 'https://raw.githubusercontent.com/jbrownlee/Datasets/master/abalone.csv'\n",
    "dat"
   ]
  },
  {
   "cell_type": "code",
   "execution_count": 78,
   "id": "0c3f0345",
   "metadata": {},
   "outputs": [],
   "source": [
    "def get_pipeline(num_features,cat_features):\n",
    "    transformer=ColumnTransformer([\n",
    "     (\"numerical_imputer\", SimpleImputer(strategy=\"median\"), num_features),\n",
    "    (\"one_hot_encoder\", OneHotEncoder(handle_unknown=\"ignore\"),cat_features)])\n",
    "    pipeline=Pipeline([('transformer',transformer),('classifier',XGBClassifier())])\n",
    "    return pipeline"
   ]
  },
  {
   "cell_type": "code",
   "execution_count": null,
   "id": "1fd97581",
   "metadata": {},
   "outputs": [],
   "source": [
    "def get_pipeline(num_features,X"
   ]
  },
  {
   "cell_type": "code",
   "execution_count": 79,
   "id": "92011b56",
   "metadata": {},
   "outputs": [],
   "source": [
    "from typing import List\n",
    "from typing import Tuple\n",
    "from sklearn.model_selection import train_test_split"
   ]
  },
  {
   "cell_type": "code",
   "execution_count": 87,
   "id": "58fd4cb6",
   "metadata": {},
   "outputs": [],
   "source": [
    "def get_train_test_score_set(df: pd.DataFrame) -> Tuple:\n",
    "    \"\"\"\n",
    "    Get training and testing sets.\n",
    "\n",
    "    :param df: Dataframe.\n",
    "    :return: Training, testing and validation dataframes.\n",
    "    \"\"\"\n",
    "    x_train, x_test, y_train, y_test = train_test_split(\n",
    "        df.drop(\"target\", axis=1), df[\"target\"], test_size=0.3, random_state=42\n",
    "    )\n",
    "    x_test, x_score, y_test, y_score = train_test_split(\n",
    "        x_test, y_test, test_size=0.5, random_state=42\n",
    "    )\n",
    "\n",
    "    return x_train, x_test, x_score, y_train, y_test, y_score"
   ]
  },
  {
   "cell_type": "code",
   "execution_count": 88,
   "id": "99868854",
   "metadata": {},
   "outputs": [],
   "source": [
    "from mlflow.models.signature import ModelSignature,infer_signature"
   ]
  },
  {
   "cell_type": "code",
   "execution_count": null,
   "id": "91f5f424-9d1d-409e-bc07-b7b1869df637",
   "metadata": {},
   "outputs": [],
   "source": []
  },
  {
   "cell_type": "code",
   "execution_count": 12,
   "id": "3363cecc",
   "metadata": {},
   "outputs": [],
   "source": []
  },
  {
   "cell_type": "code",
   "execution_count": 91,
   "id": "78efa51b",
   "metadata": {},
   "outputs": [],
   "source": [
    "exp_id=mlflow.create_experiment(name=experiment_name,\n",
    "                                artifact_location=artifact_path)\n",
    "                                "
   ]
  },
  {
   "cell_type": "code",
   "execution_count": 14,
   "id": "2220dad6",
   "metadata": {},
   "outputs": [
    {
     "name": "stdout",
     "output_type": "stream",
     "text": [
      "165262957078029638\n"
     ]
    }
   ],
   "source": [
    "print(experiment_id)"
   ]
  },
  {
   "cell_type": "code",
   "execution_count": 62,
   "id": "340e2bbf",
   "metadata": {},
   "outputs": [
    {
     "name": "stderr",
     "output_type": "stream",
     "text": [
      "2024/02/24 16:13:42 WARNING mlflow.utils.autologging_utils: You are using an unsupported version of xgboost. If you encounter errors during autologging, try upgrading / downgrading xgboost to a supported version, or try upgrading MLflow.\n"
     ]
    }
   ],
   "source": [
    "mlflow.xgboost.autolog()\n"
   ]
  },
  {
   "cell_type": "code",
   "execution_count": 63,
   "id": "2d11cd17",
   "metadata": {},
   "outputs": [],
   "source": [
    "import xgboost"
   ]
  },
  {
   "cell_type": "code",
   "execution_count": 64,
   "id": "52311d6e",
   "metadata": {},
   "outputs": [],
   "source": [
    "from xgboost import XGBClassifier"
   ]
  },
  {
   "cell_type": "code",
   "execution_count": 15,
   "id": "bcf284f6",
   "metadata": {},
   "outputs": [],
   "source": [
    "def train_model(pipeline:Pipeline,experiment_id:int,run_name:str,model_name:str,artifact_path:str,x:pd.DataFrame,y:pd.DataFrame)->Tuple[str,Pipeline]:\n",
    "    signature=infer_signature(x,y)\n",
    "    with mlflow.start_run(run_name=run_name,experiment_id=experiment_id) as run:\n",
    "        pipeline=pipeline.fit(x,y)\n",
    "        mlflow.sklearn.log_model(sk_model=pipeline,artifact_path=artifact_path,signature=signature,registered_model_name=model_name)\n",
    "    return run.info,run.info.run_id,pipeline\n",
    "        \n",
    "        \n",
    "        \n",
    "    "
   ]
  },
  {
   "cell_type": "code",
   "execution_count": 16,
   "id": "a6084e1b",
   "metadata": {},
   "outputs": [],
   "source": [
    "x_train, x_test, x_score, y_train, y_test, y_score=get_train_test_score_set(df)\n"
   ]
  },
  {
   "cell_type": "code",
   "execution_count": 17,
   "id": "88269b99",
   "metadata": {},
   "outputs": [],
   "source": [
    "experiment_name = \"house_pricing_classifier\"\n",
    "run_name = \"training_classifier\"\n",
    "model_name = \"registered_model\"\n",
    "artifact_path = \"model\""
   ]
  },
  {
   "cell_type": "code",
   "execution_count": 18,
   "id": "77f6ba4a",
   "metadata": {},
   "outputs": [
    {
     "name": "stdout",
     "output_type": "stream",
     "text": [
      "561057041556834502\n"
     ]
    }
   ],
   "source": [
    "experiment_id=mlflow.create_experiment(name=experiment_name,artifact_location='mlflow-artifacts:/0')\n",
    "print(experiment_id)"
   ]
  },
  {
   "cell_type": "code",
   "execution_count": 19,
   "id": "aa953e7d",
   "metadata": {},
   "outputs": [],
   "source": [
    "features = [f for f in x_train.columns if f not in [\"id\", \"target\", \"MedHouseVal\"]]"
   ]
  },
  {
   "cell_type": "code",
   "execution_count": 65,
   "id": "0de6e5c8",
   "metadata": {},
   "outputs": [],
   "source": [
    "pipeline=get_pipeline(features,[])"
   ]
  },
  {
   "cell_type": "code",
   "execution_count": 66,
   "id": "ecfc0318",
   "metadata": {},
   "outputs": [
    {
     "name": "stderr",
     "output_type": "stream",
     "text": [
      "/home/gyang/.local/lib/python3.10/site-packages/mlflow/models/signature.py:213: UserWarning: Hint: Inferred schema contains integer column(s). Integer columns in Python cannot represent missing values. If your input data contains missing values at inference time, it will be encoded as floats and will cause a schema enforcement error. The best way to avoid this problem is to infer the model schema based on a realistic data sample (training dataset) that includes missing values. Alternatively, you can declare integer columns as doubles (float64) whenever these columns may have missing values. See `Handling Integers With Missing Values <https://www.mlflow.org/docs/latest/models.html#handling-integers-with-missing-values>`_ for more details.\n",
      "  outputs = _infer_schema(model_output) if model_output is not None else None\n",
      "2024/02/24 16:19:20 WARNING mlflow.utils.autologging_utils: MLflow autologging encountered a warning: \"/home/gyang/miniconda3/lib/python3.10/site-packages/xgboost/core.py:160: UserWarning: [16:19:20] WARNING: /workspace/src/c_api/c_api.cc:1240: Saving into deprecated binary model format, please consider using `json` or `ubj`. Model format will default to JSON in XGBoost 2.2 if not specified.\"\n",
      "2024/02/24 16:19:22 WARNING mlflow.utils.autologging_utils: MLflow autologging encountered a warning: \"/home/gyang/miniconda3/lib/python3.10/site-packages/_distutils_hack/__init__.py:18: UserWarning: Distutils was imported before Setuptools, but importing Setuptools also replaces the `distutils` module in `sys.modules`. This may lead to undesirable behaviors or errors. To avoid these issues, avoid using distutils directly, ensure that setuptools is installed in the traditional way (e.g. not an editable install), and/or make sure that setuptools is always imported before distutils.\"\n",
      "2024/02/24 16:19:22 WARNING mlflow.utils.autologging_utils: MLflow autologging encountered a warning: \"/home/gyang/miniconda3/lib/python3.10/site-packages/_distutils_hack/__init__.py:33: UserWarning: Setuptools is replacing distutils.\"\n",
      "Registered model 'registered_model' already exists. Creating a new version of this model...\n",
      "2024/02/24 16:19:25 INFO mlflow.tracking._model_registry.client: Waiting up to 300 seconds for model version to finish creation. Model name: registered_model, version 3\n",
      "Created version '3' of model 'registered_model'.\n"
     ]
    }
   ],
   "source": [
    "run_info,run_id,model=train_model(pipeline,experiment_id,run_name,model_name,artifact_path,x_train[features],y_train)"
   ]
  },
  {
   "cell_type": "code",
   "execution_count": 49,
   "id": "fa83b77f",
   "metadata": {},
   "outputs": [
    {
     "data": {
      "text/plain": [
       "'88787a4b292541fd8177325221b34617'"
      ]
     },
     "execution_count": 49,
     "metadata": {},
     "output_type": "execute_result"
    }
   ],
   "source": [
    "run_id\n"
   ]
  },
  {
   "cell_type": "code",
   "execution_count": 70,
   "id": "74ea79ab",
   "metadata": {},
   "outputs": [
    {
     "data": {
      "text/plain": [
       "'93c0b62fb74d40638d9f362860a773d7'"
      ]
     },
     "execution_count": 70,
     "metadata": {},
     "output_type": "execute_result"
    }
   ],
   "source": [
    "run_id"
   ]
  },
  {
   "cell_type": "code",
   "execution_count": 67,
   "id": "f30456c7",
   "metadata": {},
   "outputs": [
    {
     "name": "stderr",
     "output_type": "stream",
     "text": [
      "Downloading artifacts: 100%|██████████████████████| 6/6 [00:00<00:00, 57.83it/s]\n"
     ]
    }
   ],
   "source": [
    "house_model=mlflow.sklearn.load_model(model_uri=f\"runs:/{run_id}/{artifact_path}\")"
   ]
  },
  {
   "cell_type": "code",
   "execution_count": 68,
   "id": "01813d0a",
   "metadata": {},
   "outputs": [],
   "source": [
    "predictions=house_model.predict(x_score[features])"
   ]
  },
  {
   "cell_type": "code",
   "execution_count": 24,
   "id": "096c84fe",
   "metadata": {},
   "outputs": [],
   "source": [
    "from sklearn.metrics import classification_report"
   ]
  },
  {
   "cell_type": "code",
   "execution_count": 69,
   "id": "6d078653",
   "metadata": {},
   "outputs": [
    {
     "name": "stdout",
     "output_type": "stream",
     "text": [
      "              precision    recall  f1-score   support\n",
      "\n",
      "           0       0.92      0.90      0.91      1564\n",
      "           1       0.90      0.92      0.91      1532\n",
      "\n",
      "    accuracy                           0.91      3096\n",
      "   macro avg       0.91      0.91      0.91      3096\n",
      "weighted avg       0.91      0.91      0.91      3096\n",
      "\n"
     ]
    }
   ],
   "source": [
    "print(classification_report(y_score,predictions))"
   ]
  },
  {
   "cell_type": "code",
   "execution_count": 25,
   "id": "525cfe18",
   "metadata": {},
   "outputs": [
    {
     "name": "stdout",
     "output_type": "stream",
     "text": [
      "              precision    recall  f1-score   support\n",
      "\n",
      "           0       0.90      0.90      0.90      1564\n",
      "           1       0.90      0.89      0.90      1532\n",
      "\n",
      "    accuracy                           0.90      3096\n",
      "   macro avg       0.90      0.90      0.90      3096\n",
      "weighted avg       0.90      0.90      0.90      3096\n",
      "\n"
     ]
    }
   ],
   "source": [
    "print(classification_report(y_score,predictions))"
   ]
  },
  {
   "cell_type": "code",
   "execution_count": 30,
   "id": "770598f7",
   "metadata": {},
   "outputs": [],
   "source": [
    "from sklearn.metrics import RocCurveDisplay,ConfusionMatrixDisplay,PrecisionRecallDisplay\n",
    "from sklearn.metrics import roc_auc_score,precision_score,accuracy_score,recall_score,f1_score\n",
    "\n",
    "import matplotlib.pyplot as plt"
   ]
  },
  {
   "cell_type": "code",
   "execution_count": 45,
   "id": "c30cfe8f",
   "metadata": {},
   "outputs": [],
   "source": [
    "def get_performance_plots(y_pre,y_score,prefix):\n",
    "    fig_pr=plt.figure()\n",
    "    pr_dp=PrecisionRecallDisplay.from_predictions(y_score,y_pre,ax=plt.gca())\n",
    "    fig_rc=plt.figure()\n",
    "    rc_dp=RocCurveDisplay.from_predictions(y_score,y_pre,ax=plt.gca())\n",
    "    fig_cm=plt.figure()\n",
    "    cm_dp=ConfusionMatrixDisplay.from_predictions(y_score,y_pre,ax=plt.gca())\n",
    "    return {\n",
    "        f\"{prefix}_roc_curve\": fig_rc,\n",
    "        f\"{prefix}_confusion_matrix\": fig_cm,\n",
    "        f\"{prefix}_precision_recall_curve\": fig_pr,\n",
    "    }\n",
    "\n",
    "    \n",
    "    "
   ]
  },
  {
   "cell_type": "code",
   "execution_count": 40,
   "id": "b8c1ee69",
   "metadata": {},
   "outputs": [],
   "source": [
    "def get_performance_matrix(y_pre,y_true,prefix):\n",
    "    metrics = {\n",
    "        f\"{prefix}_accuracy\": accuracy_score(y_true, y_pre),\n",
    "        f\"{prefix}_precision\": precision_score(y_true, y_pre),\n",
    "        f\"{prefix}_recall\": recall_score(y_true, y_pre),\n",
    "        f\"{prefix}_f1\": f1_score(y_true, y_pre),\n",
    "        f\"{prefix}_roc_auc\": roc_auc_score(y_true, y_pre)\n",
    "    }\n",
    "\n",
    "    return metrics"
   ]
  },
  {
   "cell_type": "code",
   "execution_count": 32,
   "id": "3ad9fab5",
   "metadata": {},
   "outputs": [],
   "source": [
    "from mlflow import MlflowClient"
   ]
  },
  {
   "cell_type": "code",
   "execution_count": 51,
   "id": "4b21f464",
   "metadata": {},
   "outputs": [],
   "source": [
    "def register_model_with_client(model_name,run_id,artifact_path):\n",
    "    client=MlflowClient()\n",
    "    client.create_registered_model(model_name)\n",
    "    client.create_model_version(name=model_name,source=f\"runs:/{run_id}/{artifact_path}\")\n",
    "    \n",
    "    "
   ]
  },
  {
   "cell_type": "code",
   "execution_count": 71,
   "id": "2f8affc5",
   "metadata": {},
   "outputs": [],
   "source": [
    "met=get_performance_matrix(predictions,y_score,'test')"
   ]
  },
  {
   "cell_type": "code",
   "execution_count": 72,
   "id": "774fab42",
   "metadata": {},
   "outputs": [
    {
     "data": {
      "image/png": "[encoded data removed]",
      "text/plain": [
       "<Figure size 640x480 with 1 Axes>"
      ]
     },
     "metadata": {},
     "output_type": "display_data"
    },
    {
     "data": {
      "image/png": "[encoded data removed]",
      "text/plain": [
       "<Figure size 640x480 with 1 Axes>"
      ]
     },
     "metadata": {},
     "output_type": "display_data"
    },
    {
     "data": {
      "image/png": "[encoded data removed]",
      "text/plain": [
       "<Figure size 640x480 with 2 Axes>"
      ]
     },
     "metadata": {},
     "output_type": "display_data"
    }
   ],
   "source": [
    "plot=get_performance_plots(predictions,y_score,'test')"
   ]
  },
  {
   "cell_type": "code",
   "execution_count": 46,
   "id": "69cca339",
   "metadata": {},
   "outputs": [
    {
     "data": {
      "image/png": "[encoded data removed]",
      "text/plain": [
       "<Figure size 640x480 with 1 Axes>"
      ]
     },
     "metadata": {},
     "output_type": "display_data"
    },
    {
     "data": {
      "image/png": "[encoded data removed]",
      "text/plain": [
       "<Figure size 640x480 with 1 Axes>"
      ]
     },
     "metadata": {},
     "output_type": "display_data"
    },
    {
     "data": {
      "image/png": "[encoded data removed]",
      "text/plain": [
       "<Figure size 640x480 with 2 Axes>"
      ]
     },
     "metadata": {},
     "output_type": "display_data"
    }
   ],
   "source": [
    "plot=get_performance_plots(predictions,y_score,'test')"
   ]
  },
  {
   "cell_type": "code",
   "execution_count": 73,
   "id": "438bc6ef",
   "metadata": {},
   "outputs": [],
   "source": [
    "with mlflow.start_run(run_id=run_id) as run:\n",
    "    mlflow.log_metrics(met)\n",
    "    mlflow.log_params(model[-1].get_params())\n",
    "    mlflow.set_tags({\"type\": \"classifier\"})\n",
    "\n",
    "        # log description\n",
    "    mlflow.set_tag(\"mlflow.note.content\", \"This is a classifier for the house pricing dataset\")\n",
    "    for name,pl in plot.items():\n",
    "        mlflow.log_figure(pl,name+'.png')"
   ]
  },
  {
   "cell_type": "code",
   "execution_count": 77,
   "id": "b8bb64cb",
   "metadata": {},
   "outputs": [
    {
     "name": "stderr",
     "output_type": "stream",
     "text": [
      "Downloading artifacts: 100%|██████████████████████| 5/5 [00:00<00:00, 12.41it/s]\n"
     ]
    }
   ],
   "source": [
    "latest_house_model=mlflow.sklearn.load_model(model_uri='models:/registered_model/1')"
   ]
  },
  {
   "cell_type": "code",
   "execution_count": 78,
   "id": "d16c2e3f",
   "metadata": {},
   "outputs": [],
   "source": [
    "house_predictions =latest_house_model.predict(x_score[features])\n"
   ]
  },
  {
   "cell_type": "code",
   "execution_count": 79,
   "id": "619a0e52",
   "metadata": {},
   "outputs": [
    {
     "name": "stdout",
     "output_type": "stream",
     "text": [
      "              precision    recall  f1-score   support\n",
      "\n",
      "           0       0.90      0.90      0.90      1564\n",
      "           1       0.90      0.89      0.90      1532\n",
      "\n",
      "    accuracy                           0.90      3096\n",
      "   macro avg       0.90      0.90      0.90      3096\n",
      "weighted avg       0.90      0.90      0.90      3096\n",
      "\n"
     ]
    }
   ],
   "source": [
    "print(classification_report(y_score,house_predictions))"
   ]
  },
  {
   "cell_type": "code",
   "execution_count": 84,
   "id": "2f8e10ec",
   "metadata": {},
   "outputs": [],
   "source": [
    "import json,requests"
   ]
  },
  {
   "cell_type": "code",
   "execution_count": 81,
   "id": "e404592e",
   "metadata": {},
   "outputs": [],
   "source": [
    "feature_values = json.loads(x_score[features].iloc[1:2].to_json(orient=\"split\"))"
   ]
  },
  {
   "cell_type": "code",
   "execution_count": 82,
   "id": "cff57851",
   "metadata": {},
   "outputs": [],
   "source": [
    "payload = {\"dataframe_split\": feature_values}"
   ]
  },
  {
   "cell_type": "code",
   "execution_count": 85,
   "id": "4fce4e50",
   "metadata": {},
   "outputs": [],
   "source": [
    "BASE_URI = \"http://127.0.0.1:5000/\"\n",
    "headers = {\"Content-Type\": \"application/json\"}\n",
    "endpoint = BASE_URI + \"invocations\"\n",
    "r = requests.post(endpoint, data=json.dumps(payload), headers=headers)"
   ]
  },
  {
   "cell_type": "code",
   "execution_count": 87,
   "id": "eb7a447c",
   "metadata": {},
   "outputs": [
    {
     "name": "stdout",
     "output_type": "stream",
     "text": [
      "STATUS CODE: 404\n",
      "PREDICTIONS: <!doctype html>\n",
      "<html lang=en>\n",
      "<title>404 Not Found</title>\n",
      "<h1>Not Found</h1>\n",
      "<p>The requested URL was not found on the server. If you entered the URL manually please check your spelling and try again.</p>\n",
      "\n",
      "TARGET: 12273    0\n",
      "Name: target, dtype: int64\n"
     ]
    }
   ],
   "source": [
    "print(f\"STATUS CODE: {r.status_code}\")\n",
    "print(f\"PREDICTIONS: {r.text}\")\n",
    "print(f\"TARGET: {y_score.iloc[1:2]}\")"
   ]
  },
  {
   "cell_type": "code",
   "execution_count": null,
   "id": "0c3046b3",
   "metadata": {},
   "outputs": [],
   "source": []
  }
 ],
 "metadata": {
  "kernelspec": {
   "display_name": "Python 3 (ipykernel)",
   "language": "python",
   "name": "python3"
  },
  "language_info": {
   "codemirror_mode": {
    "name": "ipython",
    "version": 3
   },
   "file_extension": ".py",
   "mimetype": "text/x-python",
   "name": "python",
   "nbconvert_exporter": "python",
   "pygments_lexer": "ipython3",
   "version": "3.10.12"
  }
 },
 "nbformat": 4,
 "nbformat_minor": 5
}
